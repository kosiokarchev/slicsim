{
 "cells": [
  {
   "cell_type": "code",
   "execution_count": 1,
   "metadata": {
    "ExecuteTime": {
     "end_time": "2022-04-09T15:43:43.053144Z",
     "start_time": "2022-04-09T15:43:30.776888Z"
    },
    "pycharm": {
     "name": "#%%\n"
    }
   },
   "outputs": [],
   "source": [
    "from itertools import product\n",
    "from operator import itemgetter\n",
    "\n",
    "import torch\n",
    "from matplotlib import pyplot as plt\n",
    "\n",
    "# noinspection PyUnresolvedReferences\n",
    "from clipppy.patches import torch_numpy\n",
    "from clipppy.utils.plotting.nre import multi_posterior\n",
    "from libplotting import ResultsPlotter\n",
    "from libsimplesn import SimpleSN\n",
    "\n",
    "\n",
    "torch.set_default_tensor_type(torch.cuda.FloatTensor)"
   ]
  },
  {
   "cell_type": "markdown",
   "source": [
    "## Generate"
   ],
   "metadata": {
    "collapsed": false,
    "pycharm": {
     "name": "#%% md\n"
    }
   }
  },
  {
   "cell_type": "code",
   "execution_count": null,
   "outputs": [],
   "source": [
    "hdis_nre = {}\n",
    "for N, datatype, version in product((1_000, 2_000, 5_000, 10_000), ('photoz',), (0,)):\n",
    "    simplesn = SimpleSN('pantheon-g10', N=N, datatype=datatype, suffix=0, version=version)\n",
    "    config = simplesn.config('simplesn.yaml', gen=True)\n",
    "\n",
    "    base = ResultsPlotter.base_logdir / simplesn.basedata_prefix\n",
    "\n",
    "    for vpath in base.glob('**/version_*'):\n",
    "        plotter = ResultsPlotter(simplesn, config, version=version)\n",
    "        plotter.logdir = vpath\n",
    "        plotter.bounds = {\n",
    "            key: {'lower': lower, 'upper': upper}\n",
    "            for key, (lower, upper) in simplesn.zoom_bounds[-2].items()\n",
    "        }\n",
    "\n",
    "        vrelpath = str(vpath.relative_to(base))\n",
    "\n",
    "        print(N, datatype, vrelpath)\n",
    "\n",
    "        x, y = map(\n",
    "            torch.Tensor.numpy,\n",
    "            itemgetter('Om0', 'Ode0')(plotter.nrep.plotters['Om0', 'Ode0'].grid)\n",
    "        )\n",
    "        z = plotter.perc(simplesn.data).rename_(None).flatten().numpy()\n",
    "\n",
    "        hdis_nre[simplesn.N, simplesn.datatype, simplesn.suffix, version, vrelpath] = x, y, z"
   ],
   "metadata": {
    "collapsed": false,
    "pycharm": {
     "name": "#%%\n"
    }
   }
  },
  {
   "cell_type": "code",
   "execution_count": 4,
   "outputs": [
    {
     "name": "stdout",
     "output_type": "stream",
     "text": [
      "10000 mphotoz onlycosmo-fc/step/version_0\n"
     ]
    },
    {
     "name": "stderr",
     "output_type": "stream",
     "text": [
      "/u/k/kkarchev/Projects/snai-tossn/demo/simplesn/libplotting.py:82: PerformanceWarning: indexing past lexsort depth may impact performance.\n",
      "  for key, val in self.simplesn.hdi_bounds[self.simplesn.datatype, self.simplesn.N].to_dict().items()\n",
      "/u/k/kkarchev/miniconda3/lib/python3.9/site-packages/torch/_tensor.py:922: UserWarning: Named tensors and all their associated APIs are an experimental feature and subject to change. Please do not use them for anything important until they are released as stable. (Triggered internally at  /opt/conda/conda-bld/pytorch_1646756402876/work/c10/core/TensorImpl.h:1463.)\n",
      "  return super(Tensor, self).align_to(names)\n"
     ]
    },
    {
     "name": "stdout",
     "output_type": "stream",
     "text": [
      "10000 mphotoz onlycosmo-fc/step/version_1\n",
      "10000 specz onlycosmo-fc/step/version_0\n",
      "10000 specz onlycosmo-fc/step/version_1\n",
      "10000 specz onlycosmo-fc/step/version_2\n",
      "10000 specz onlycosmo-fc/step/version_3\n",
      "20000 mphotoz onlycosmo-fc/step/version_0\n",
      "20000 specz onlycosmo-fc/step/version_0\n",
      "50000 mphotoz onlycosmo-fc/step/version_0\n",
      "50000 specz onlycosmo-fc/step/version_0\n",
      "100000 mphotoz onlycosmo-fc/step/version_0\n",
      "100000 mphotoz onlycosmo-fc/step/version_1\n",
      "100000 specz onlycosmo-fc/step/version_0\n",
      "100000 specz onlycosmo-fc/step/version_1\n",
      "100000 specz onlycosmo-fc/step/version_2\n",
      "100000 specz onlycosmo-fc/step/version_3\n"
     ]
    }
   ],
   "source": [
    "hdis_nre = {}\n",
    "for N, datatype in product((10_000, 20_000, 50_000, 100_000), ('mphotoz', 'specz')):\n",
    "    simplesn = SimpleSN(survey='pantheon-g10', datatype=datatype, N=N, suffix=0)\n",
    "    config = simplesn.config('simplesn-marginal.yaml', gen=True)\n",
    "\n",
    "    base = ResultsPlotter.base_logdir / simplesn.basedata_prefix\n",
    "    for vpath in base.glob('**/version_*'):\n",
    "        plotter = ResultsPlotter(simplesn, config, None)\n",
    "        plotter.logdir = vpath\n",
    "\n",
    "        vrelpath = str(vpath.relative_to(base))\n",
    "\n",
    "        print(N, datatype, vrelpath)\n",
    "        for data_version in range(10):\n",
    "            ssn = plotter.simplesn.clone(version=data_version)\n",
    "\n",
    "            x, y = map(\n",
    "                torch.Tensor.numpy,\n",
    "                itemgetter('Om0', 'Ode0')(plotter.nrep.plotters['Om0', 'Ode0'].grid)\n",
    "            )\n",
    "            z = plotter.perc(ssn.data).rename(None).flatten().numpy()\n",
    "\n",
    "            hdis_nre[ssn.N, ssn.datatype, ssn.suffix, data_version, vrelpath] = x, y, z"
   ],
   "metadata": {
    "collapsed": false,
    "pycharm": {
     "name": "#%%\n"
    }
   }
  },
  {
   "cell_type": "markdown",
   "metadata": {
    "heading_collapsed": true,
    "pycharm": {
     "name": "#%% md\n"
    }
   },
   "source": [
    "### Compare MC"
   ]
  },
  {
   "cell_type": "code",
   "execution_count": 2,
   "metadata": {
    "ExecuteTime": {
     "end_time": "2022-04-05T13:17:37.865483Z",
     "start_time": "2022-04-05T13:16:17.224862Z"
    },
    "hidden": true,
    "scrolled": false,
    "pycharm": {
     "name": "#%%\n"
    }
   },
   "outputs": [
    {
     "name": "stderr",
     "output_type": "stream",
     "text": [
      "/u/k/kkarchev/Projects/snai-tossn/demo/simplesn/libplotting.py:82: PerformanceWarning: indexing past lexsort depth may impact performance.\n",
      "  for key, val in self.ssn.hdi_bounds[self.ssn.datatype, self.ssn.N].to_dict().items()\n",
      "/u/k/kkarchev/miniconda3/lib/python3.9/site-packages/torch/_tensor.py:922: UserWarning: Named tensors and all their associated APIs are an experimental feature and subject to change. Please do not use them for anything important until they are released as stable. (Triggered internally at  /opt/conda/conda-bld/pytorch_1646756402876/work/c10/core/TensorImpl.h:1463.)\n",
      "  return super(Tensor, self).align_to(names)\n"
     ]
    },
    {
     "name": "stdout",
     "output_type": "stream",
     "text": [
      "lightning_logs/pantheon-g10-10000-0-specz/onlycosmo-fc/step/version_0/plots/pantheon-g10-10000-0-specz-0-nre.pdf\n",
      "lightning_logs/pantheon-g10-10000-0-specz/onlycosmo-fc/step/version_0/plots/pantheon-g10-10000-0-specz-1-nre.pdf\n",
      "lightning_logs/pantheon-g10-10000-0-specz/onlycosmo-fc/step/version_0/plots/pantheon-g10-10000-0-specz-2-nre.pdf\n",
      "lightning_logs/pantheon-g10-10000-0-specz/onlycosmo-fc/step/version_0/plots/pantheon-g10-10000-0-specz-3-nre.pdf\n",
      "lightning_logs/pantheon-g10-10000-0-specz/onlycosmo-fc/step/version_0/plots/pantheon-g10-10000-0-specz-4-nre.pdf\n",
      "lightning_logs/pantheon-g10-10000-0-specz/onlycosmo-fc/step/version_0/plots/pantheon-g10-10000-0-specz-5-nre.pdf\n",
      "lightning_logs/pantheon-g10-10000-0-specz/onlycosmo-fc/step/version_0/plots/pantheon-g10-10000-0-specz-6-nre.pdf\n",
      "lightning_logs/pantheon-g10-10000-0-specz/onlycosmo-fc/step/version_0/plots/pantheon-g10-10000-0-specz-7-nre.pdf\n",
      "lightning_logs/pantheon-g10-10000-0-specz/onlycosmo-fc/step/version_0/plots/pantheon-g10-10000-0-specz-8-nre.pdf\n",
      "lightning_logs/pantheon-g10-10000-0-specz/onlycosmo-fc/step/version_0/plots/pantheon-g10-10000-0-specz-9-nre.pdf\n"
     ]
    },
    {
     "name": "stderr",
     "output_type": "stream",
     "text": [
      "/u/k/kkarchev/Projects/snai-tossn/demo/simplesn/libplotting.py:82: PerformanceWarning: indexing past lexsort depth may impact performance.\n",
      "  for key, val in self.ssn.hdi_bounds[self.ssn.datatype, self.ssn.N].to_dict().items()\n"
     ]
    },
    {
     "name": "stdout",
     "output_type": "stream",
     "text": [
      "lightning_logs/pantheon-g10-10000-0-specz/onlycosmo-fc/step/version_1/plots/pantheon-g10-10000-0-specz-0-nre.pdf\n",
      "lightning_logs/pantheon-g10-10000-0-specz/onlycosmo-fc/step/version_1/plots/pantheon-g10-10000-0-specz-1-nre.pdf\n",
      "lightning_logs/pantheon-g10-10000-0-specz/onlycosmo-fc/step/version_1/plots/pantheon-g10-10000-0-specz-2-nre.pdf\n",
      "lightning_logs/pantheon-g10-10000-0-specz/onlycosmo-fc/step/version_1/plots/pantheon-g10-10000-0-specz-3-nre.pdf\n",
      "lightning_logs/pantheon-g10-10000-0-specz/onlycosmo-fc/step/version_1/plots/pantheon-g10-10000-0-specz-4-nre.pdf\n",
      "lightning_logs/pantheon-g10-10000-0-specz/onlycosmo-fc/step/version_1/plots/pantheon-g10-10000-0-specz-5-nre.pdf\n",
      "lightning_logs/pantheon-g10-10000-0-specz/onlycosmo-fc/step/version_1/plots/pantheon-g10-10000-0-specz-6-nre.pdf\n",
      "lightning_logs/pantheon-g10-10000-0-specz/onlycosmo-fc/step/version_1/plots/pantheon-g10-10000-0-specz-7-nre.pdf\n",
      "lightning_logs/pantheon-g10-10000-0-specz/onlycosmo-fc/step/version_1/plots/pantheon-g10-10000-0-specz-8-nre.pdf\n",
      "lightning_logs/pantheon-g10-10000-0-specz/onlycosmo-fc/step/version_1/plots/pantheon-g10-10000-0-specz-9-nre.pdf\n"
     ]
    },
    {
     "name": "stderr",
     "output_type": "stream",
     "text": [
      "/u/k/kkarchev/Projects/snai-tossn/demo/simplesn/libplotting.py:82: PerformanceWarning: indexing past lexsort depth may impact performance.\n",
      "  for key, val in self.ssn.hdi_bounds[self.ssn.datatype, self.ssn.N].to_dict().items()\n"
     ]
    },
    {
     "name": "stdout",
     "output_type": "stream",
     "text": [
      "lightning_logs/pantheon-g10-10000-0-specz/onlycosmo-fc/step/version_2/plots/pantheon-g10-10000-0-specz-0-nre.pdf\n",
      "lightning_logs/pantheon-g10-10000-0-specz/onlycosmo-fc/step/version_2/plots/pantheon-g10-10000-0-specz-1-nre.pdf\n",
      "lightning_logs/pantheon-g10-10000-0-specz/onlycosmo-fc/step/version_2/plots/pantheon-g10-10000-0-specz-2-nre.pdf\n",
      "lightning_logs/pantheon-g10-10000-0-specz/onlycosmo-fc/step/version_2/plots/pantheon-g10-10000-0-specz-3-nre.pdf\n",
      "lightning_logs/pantheon-g10-10000-0-specz/onlycosmo-fc/step/version_2/plots/pantheon-g10-10000-0-specz-4-nre.pdf\n",
      "lightning_logs/pantheon-g10-10000-0-specz/onlycosmo-fc/step/version_2/plots/pantheon-g10-10000-0-specz-5-nre.pdf\n",
      "lightning_logs/pantheon-g10-10000-0-specz/onlycosmo-fc/step/version_2/plots/pantheon-g10-10000-0-specz-6-nre.pdf\n",
      "lightning_logs/pantheon-g10-10000-0-specz/onlycosmo-fc/step/version_2/plots/pantheon-g10-10000-0-specz-7-nre.pdf\n",
      "lightning_logs/pantheon-g10-10000-0-specz/onlycosmo-fc/step/version_2/plots/pantheon-g10-10000-0-specz-8-nre.pdf\n",
      "lightning_logs/pantheon-g10-10000-0-specz/onlycosmo-fc/step/version_2/plots/pantheon-g10-10000-0-specz-9-nre.pdf\n"
     ]
    },
    {
     "name": "stderr",
     "output_type": "stream",
     "text": [
      "/u/k/kkarchev/Projects/snai-tossn/demo/simplesn/libplotting.py:82: PerformanceWarning: indexing past lexsort depth may impact performance.\n",
      "  for key, val in self.ssn.hdi_bounds[self.ssn.datatype, self.ssn.N].to_dict().items()\n"
     ]
    },
    {
     "name": "stdout",
     "output_type": "stream",
     "text": [
      "lightning_logs/pantheon-g10-10000-0-specz/onlycosmo-fc/step/version_3/plots/pantheon-g10-10000-0-specz-0-nre.pdf\n",
      "lightning_logs/pantheon-g10-10000-0-specz/onlycosmo-fc/step/version_3/plots/pantheon-g10-10000-0-specz-1-nre.pdf\n",
      "lightning_logs/pantheon-g10-10000-0-specz/onlycosmo-fc/step/version_3/plots/pantheon-g10-10000-0-specz-2-nre.pdf\n",
      "lightning_logs/pantheon-g10-10000-0-specz/onlycosmo-fc/step/version_3/plots/pantheon-g10-10000-0-specz-3-nre.pdf\n",
      "lightning_logs/pantheon-g10-10000-0-specz/onlycosmo-fc/step/version_3/plots/pantheon-g10-10000-0-specz-4-nre.pdf\n",
      "lightning_logs/pantheon-g10-10000-0-specz/onlycosmo-fc/step/version_3/plots/pantheon-g10-10000-0-specz-5-nre.pdf\n",
      "lightning_logs/pantheon-g10-10000-0-specz/onlycosmo-fc/step/version_3/plots/pantheon-g10-10000-0-specz-6-nre.pdf\n",
      "lightning_logs/pantheon-g10-10000-0-specz/onlycosmo-fc/step/version_3/plots/pantheon-g10-10000-0-specz-7-nre.pdf\n",
      "lightning_logs/pantheon-g10-10000-0-specz/onlycosmo-fc/step/version_3/plots/pantheon-g10-10000-0-specz-8-nre.pdf\n",
      "lightning_logs/pantheon-g10-10000-0-specz/onlycosmo-fc/step/version_3/plots/pantheon-g10-10000-0-specz-9-nre.pdf\n"
     ]
    },
    {
     "name": "stderr",
     "output_type": "stream",
     "text": [
      "/u/k/kkarchev/Projects/snai-tossn/demo/simplesn/libplotting.py:82: PerformanceWarning: indexing past lexsort depth may impact performance.\n",
      "  for key, val in self.ssn.hdi_bounds[self.ssn.datatype, self.ssn.N].to_dict().items()\n"
     ]
    },
    {
     "name": "stdout",
     "output_type": "stream",
     "text": [
      "lightning_logs/pantheon-g10-100000-0-specz/onlycosmo-fc/step/version_0/plots/pantheon-g10-100000-0-specz-0-nre.pdf\n",
      "lightning_logs/pantheon-g10-100000-0-specz/onlycosmo-fc/step/version_0/plots/pantheon-g10-100000-0-specz-1-nre.pdf\n",
      "lightning_logs/pantheon-g10-100000-0-specz/onlycosmo-fc/step/version_0/plots/pantheon-g10-100000-0-specz-2-nre.pdf\n",
      "lightning_logs/pantheon-g10-100000-0-specz/onlycosmo-fc/step/version_0/plots/pantheon-g10-100000-0-specz-3-nre.pdf\n",
      "lightning_logs/pantheon-g10-100000-0-specz/onlycosmo-fc/step/version_0/plots/pantheon-g10-100000-0-specz-4-nre.pdf\n",
      "lightning_logs/pantheon-g10-100000-0-specz/onlycosmo-fc/step/version_0/plots/pantheon-g10-100000-0-specz-5-nre.pdf\n",
      "lightning_logs/pantheon-g10-100000-0-specz/onlycosmo-fc/step/version_0/plots/pantheon-g10-100000-0-specz-6-nre.pdf\n",
      "lightning_logs/pantheon-g10-100000-0-specz/onlycosmo-fc/step/version_0/plots/pantheon-g10-100000-0-specz-7-nre.pdf\n",
      "lightning_logs/pantheon-g10-100000-0-specz/onlycosmo-fc/step/version_0/plots/pantheon-g10-100000-0-specz-8-nre.pdf\n",
      "lightning_logs/pantheon-g10-100000-0-specz/onlycosmo-fc/step/version_0/plots/pantheon-g10-100000-0-specz-9-nre.pdf\n"
     ]
    },
    {
     "name": "stderr",
     "output_type": "stream",
     "text": [
      "/u/k/kkarchev/Projects/snai-tossn/demo/simplesn/libplotting.py:82: PerformanceWarning: indexing past lexsort depth may impact performance.\n",
      "  for key, val in self.ssn.hdi_bounds[self.ssn.datatype, self.ssn.N].to_dict().items()\n"
     ]
    },
    {
     "name": "stdout",
     "output_type": "stream",
     "text": [
      "lightning_logs/pantheon-g10-100000-0-specz/onlycosmo-fc/step/version_1/plots/pantheon-g10-100000-0-specz-0-nre.pdf\n",
      "lightning_logs/pantheon-g10-100000-0-specz/onlycosmo-fc/step/version_1/plots/pantheon-g10-100000-0-specz-1-nre.pdf\n",
      "lightning_logs/pantheon-g10-100000-0-specz/onlycosmo-fc/step/version_1/plots/pantheon-g10-100000-0-specz-2-nre.pdf\n",
      "lightning_logs/pantheon-g10-100000-0-specz/onlycosmo-fc/step/version_1/plots/pantheon-g10-100000-0-specz-3-nre.pdf\n",
      "lightning_logs/pantheon-g10-100000-0-specz/onlycosmo-fc/step/version_1/plots/pantheon-g10-100000-0-specz-4-nre.pdf\n",
      "lightning_logs/pantheon-g10-100000-0-specz/onlycosmo-fc/step/version_1/plots/pantheon-g10-100000-0-specz-5-nre.pdf\n",
      "lightning_logs/pantheon-g10-100000-0-specz/onlycosmo-fc/step/version_1/plots/pantheon-g10-100000-0-specz-6-nre.pdf\n",
      "lightning_logs/pantheon-g10-100000-0-specz/onlycosmo-fc/step/version_1/plots/pantheon-g10-100000-0-specz-7-nre.pdf\n",
      "lightning_logs/pantheon-g10-100000-0-specz/onlycosmo-fc/step/version_1/plots/pantheon-g10-100000-0-specz-8-nre.pdf\n",
      "lightning_logs/pantheon-g10-100000-0-specz/onlycosmo-fc/step/version_1/plots/pantheon-g10-100000-0-specz-9-nre.pdf\n"
     ]
    },
    {
     "name": "stderr",
     "output_type": "stream",
     "text": [
      "/u/k/kkarchev/Projects/snai-tossn/demo/simplesn/libplotting.py:82: PerformanceWarning: indexing past lexsort depth may impact performance.\n",
      "  for key, val in self.ssn.hdi_bounds[self.ssn.datatype, self.ssn.N].to_dict().items()\n"
     ]
    },
    {
     "name": "stdout",
     "output_type": "stream",
     "text": [
      "lightning_logs/pantheon-g10-100000-0-specz/onlycosmo-fc/step/version_2/plots/pantheon-g10-100000-0-specz-0-nre.pdf\n",
      "lightning_logs/pantheon-g10-100000-0-specz/onlycosmo-fc/step/version_2/plots/pantheon-g10-100000-0-specz-1-nre.pdf\n",
      "lightning_logs/pantheon-g10-100000-0-specz/onlycosmo-fc/step/version_2/plots/pantheon-g10-100000-0-specz-2-nre.pdf\n",
      "lightning_logs/pantheon-g10-100000-0-specz/onlycosmo-fc/step/version_2/plots/pantheon-g10-100000-0-specz-3-nre.pdf\n",
      "lightning_logs/pantheon-g10-100000-0-specz/onlycosmo-fc/step/version_2/plots/pantheon-g10-100000-0-specz-4-nre.pdf\n",
      "lightning_logs/pantheon-g10-100000-0-specz/onlycosmo-fc/step/version_2/plots/pantheon-g10-100000-0-specz-5-nre.pdf\n",
      "lightning_logs/pantheon-g10-100000-0-specz/onlycosmo-fc/step/version_2/plots/pantheon-g10-100000-0-specz-6-nre.pdf\n",
      "lightning_logs/pantheon-g10-100000-0-specz/onlycosmo-fc/step/version_2/plots/pantheon-g10-100000-0-specz-7-nre.pdf\n",
      "lightning_logs/pantheon-g10-100000-0-specz/onlycosmo-fc/step/version_2/plots/pantheon-g10-100000-0-specz-8-nre.pdf\n",
      "lightning_logs/pantheon-g10-100000-0-specz/onlycosmo-fc/step/version_2/plots/pantheon-g10-100000-0-specz-9-nre.pdf\n"
     ]
    },
    {
     "name": "stderr",
     "output_type": "stream",
     "text": [
      "/u/k/kkarchev/Projects/snai-tossn/demo/simplesn/libplotting.py:82: PerformanceWarning: indexing past lexsort depth may impact performance.\n",
      "  for key, val in self.ssn.hdi_bounds[self.ssn.datatype, self.ssn.N].to_dict().items()\n"
     ]
    },
    {
     "name": "stdout",
     "output_type": "stream",
     "text": [
      "lightning_logs/pantheon-g10-100000-0-specz/onlycosmo-fc/step/version_3/plots/pantheon-g10-100000-0-specz-0-nre.pdf\n",
      "lightning_logs/pantheon-g10-100000-0-specz/onlycosmo-fc/step/version_3/plots/pantheon-g10-100000-0-specz-1-nre.pdf\n",
      "lightning_logs/pantheon-g10-100000-0-specz/onlycosmo-fc/step/version_3/plots/pantheon-g10-100000-0-specz-2-nre.pdf\n",
      "lightning_logs/pantheon-g10-100000-0-specz/onlycosmo-fc/step/version_3/plots/pantheon-g10-100000-0-specz-3-nre.pdf\n",
      "lightning_logs/pantheon-g10-100000-0-specz/onlycosmo-fc/step/version_3/plots/pantheon-g10-100000-0-specz-4-nre.pdf\n",
      "lightning_logs/pantheon-g10-100000-0-specz/onlycosmo-fc/step/version_3/plots/pantheon-g10-100000-0-specz-5-nre.pdf\n",
      "lightning_logs/pantheon-g10-100000-0-specz/onlycosmo-fc/step/version_3/plots/pantheon-g10-100000-0-specz-6-nre.pdf\n",
      "lightning_logs/pantheon-g10-100000-0-specz/onlycosmo-fc/step/version_3/plots/pantheon-g10-100000-0-specz-7-nre.pdf\n",
      "lightning_logs/pantheon-g10-100000-0-specz/onlycosmo-fc/step/version_3/plots/pantheon-g10-100000-0-specz-8-nre.pdf\n",
      "lightning_logs/pantheon-g10-100000-0-specz/onlycosmo-fc/step/version_3/plots/pantheon-g10-100000-0-specz-9-nre.pdf\n"
     ]
    },
    {
     "name": "stderr",
     "output_type": "stream",
     "text": [
      "/u/k/kkarchev/Projects/snai-tossn/demo/simplesn/libplotting.py:82: PerformanceWarning: indexing past lexsort depth may impact performance.\n",
      "  for key, val in self.ssn.hdi_bounds[self.ssn.datatype, self.ssn.N].to_dict().items()\n"
     ]
    },
    {
     "name": "stdout",
     "output_type": "stream",
     "text": [
      "lightning_logs/pantheon-g10-10000-0-mphotoz/onlycosmo-fc/step/version_0/plots/pantheon-g10-10000-0-mphotoz-0-nre.pdf\n",
      "lightning_logs/pantheon-g10-10000-0-mphotoz/onlycosmo-fc/step/version_0/plots/pantheon-g10-10000-0-mphotoz-1-nre.pdf\n",
      "lightning_logs/pantheon-g10-10000-0-mphotoz/onlycosmo-fc/step/version_0/plots/pantheon-g10-10000-0-mphotoz-2-nre.pdf\n",
      "lightning_logs/pantheon-g10-10000-0-mphotoz/onlycosmo-fc/step/version_0/plots/pantheon-g10-10000-0-mphotoz-3-nre.pdf\n",
      "lightning_logs/pantheon-g10-10000-0-mphotoz/onlycosmo-fc/step/version_0/plots/pantheon-g10-10000-0-mphotoz-4-nre.pdf\n",
      "lightning_logs/pantheon-g10-10000-0-mphotoz/onlycosmo-fc/step/version_0/plots/pantheon-g10-10000-0-mphotoz-5-nre.pdf\n",
      "lightning_logs/pantheon-g10-10000-0-mphotoz/onlycosmo-fc/step/version_0/plots/pantheon-g10-10000-0-mphotoz-6-nre.pdf\n",
      "lightning_logs/pantheon-g10-10000-0-mphotoz/onlycosmo-fc/step/version_0/plots/pantheon-g10-10000-0-mphotoz-7-nre.pdf\n",
      "lightning_logs/pantheon-g10-10000-0-mphotoz/onlycosmo-fc/step/version_0/plots/pantheon-g10-10000-0-mphotoz-8-nre.pdf\n",
      "lightning_logs/pantheon-g10-10000-0-mphotoz/onlycosmo-fc/step/version_0/plots/pantheon-g10-10000-0-mphotoz-9-nre.pdf\n"
     ]
    },
    {
     "name": "stderr",
     "output_type": "stream",
     "text": [
      "/u/k/kkarchev/Projects/snai-tossn/demo/simplesn/libplotting.py:82: PerformanceWarning: indexing past lexsort depth may impact performance.\n",
      "  for key, val in self.ssn.hdi_bounds[self.ssn.datatype, self.ssn.N].to_dict().items()\n"
     ]
    },
    {
     "name": "stdout",
     "output_type": "stream",
     "text": [
      "lightning_logs/pantheon-g10-10000-0-mphotoz/onlycosmo-fc/step/version_1/plots/pantheon-g10-10000-0-mphotoz-0-nre.pdf\n",
      "lightning_logs/pantheon-g10-10000-0-mphotoz/onlycosmo-fc/step/version_1/plots/pantheon-g10-10000-0-mphotoz-1-nre.pdf\n",
      "lightning_logs/pantheon-g10-10000-0-mphotoz/onlycosmo-fc/step/version_1/plots/pantheon-g10-10000-0-mphotoz-2-nre.pdf\n",
      "lightning_logs/pantheon-g10-10000-0-mphotoz/onlycosmo-fc/step/version_1/plots/pantheon-g10-10000-0-mphotoz-3-nre.pdf\n",
      "lightning_logs/pantheon-g10-10000-0-mphotoz/onlycosmo-fc/step/version_1/plots/pantheon-g10-10000-0-mphotoz-4-nre.pdf\n",
      "lightning_logs/pantheon-g10-10000-0-mphotoz/onlycosmo-fc/step/version_1/plots/pantheon-g10-10000-0-mphotoz-5-nre.pdf\n",
      "lightning_logs/pantheon-g10-10000-0-mphotoz/onlycosmo-fc/step/version_1/plots/pantheon-g10-10000-0-mphotoz-6-nre.pdf\n",
      "lightning_logs/pantheon-g10-10000-0-mphotoz/onlycosmo-fc/step/version_1/plots/pantheon-g10-10000-0-mphotoz-7-nre.pdf\n",
      "lightning_logs/pantheon-g10-10000-0-mphotoz/onlycosmo-fc/step/version_1/plots/pantheon-g10-10000-0-mphotoz-8-nre.pdf\n",
      "lightning_logs/pantheon-g10-10000-0-mphotoz/onlycosmo-fc/step/version_1/plots/pantheon-g10-10000-0-mphotoz-9-nre.pdf\n"
     ]
    },
    {
     "name": "stderr",
     "output_type": "stream",
     "text": [
      "/u/k/kkarchev/Projects/snai-tossn/demo/simplesn/libplotting.py:82: PerformanceWarning: indexing past lexsort depth may impact performance.\n",
      "  for key, val in self.ssn.hdi_bounds[self.ssn.datatype, self.ssn.N].to_dict().items()\n"
     ]
    },
    {
     "name": "stdout",
     "output_type": "stream",
     "text": [
      "lightning_logs/pantheon-g10-100000-0-mphotoz/onlycosmo-fc/step/version_0/plots/pantheon-g10-100000-0-mphotoz-0-nre.pdf\n",
      "lightning_logs/pantheon-g10-100000-0-mphotoz/onlycosmo-fc/step/version_0/plots/pantheon-g10-100000-0-mphotoz-1-nre.pdf\n",
      "lightning_logs/pantheon-g10-100000-0-mphotoz/onlycosmo-fc/step/version_0/plots/pantheon-g10-100000-0-mphotoz-2-nre.pdf\n",
      "lightning_logs/pantheon-g10-100000-0-mphotoz/onlycosmo-fc/step/version_0/plots/pantheon-g10-100000-0-mphotoz-3-nre.pdf\n",
      "lightning_logs/pantheon-g10-100000-0-mphotoz/onlycosmo-fc/step/version_0/plots/pantheon-g10-100000-0-mphotoz-4-nre.pdf\n",
      "lightning_logs/pantheon-g10-100000-0-mphotoz/onlycosmo-fc/step/version_0/plots/pantheon-g10-100000-0-mphotoz-5-nre.pdf\n",
      "lightning_logs/pantheon-g10-100000-0-mphotoz/onlycosmo-fc/step/version_0/plots/pantheon-g10-100000-0-mphotoz-6-nre.pdf\n",
      "lightning_logs/pantheon-g10-100000-0-mphotoz/onlycosmo-fc/step/version_0/plots/pantheon-g10-100000-0-mphotoz-7-nre.pdf\n",
      "lightning_logs/pantheon-g10-100000-0-mphotoz/onlycosmo-fc/step/version_0/plots/pantheon-g10-100000-0-mphotoz-8-nre.pdf\n",
      "lightning_logs/pantheon-g10-100000-0-mphotoz/onlycosmo-fc/step/version_0/plots/pantheon-g10-100000-0-mphotoz-9-nre.pdf\n"
     ]
    },
    {
     "name": "stderr",
     "output_type": "stream",
     "text": [
      "/u/k/kkarchev/Projects/snai-tossn/demo/simplesn/libplotting.py:82: PerformanceWarning: indexing past lexsort depth may impact performance.\n",
      "  for key, val in self.ssn.hdi_bounds[self.ssn.datatype, self.ssn.N].to_dict().items()\n"
     ]
    },
    {
     "name": "stdout",
     "output_type": "stream",
     "text": [
      "lightning_logs/pantheon-g10-100000-0-mphotoz/onlycosmo-fc/step/version_1/plots/pantheon-g10-100000-0-mphotoz-0-nre.pdf\n",
      "lightning_logs/pantheon-g10-100000-0-mphotoz/onlycosmo-fc/step/version_1/plots/pantheon-g10-100000-0-mphotoz-1-nre.pdf\n",
      "lightning_logs/pantheon-g10-100000-0-mphotoz/onlycosmo-fc/step/version_1/plots/pantheon-g10-100000-0-mphotoz-2-nre.pdf\n",
      "lightning_logs/pantheon-g10-100000-0-mphotoz/onlycosmo-fc/step/version_1/plots/pantheon-g10-100000-0-mphotoz-3-nre.pdf\n",
      "lightning_logs/pantheon-g10-100000-0-mphotoz/onlycosmo-fc/step/version_1/plots/pantheon-g10-100000-0-mphotoz-4-nre.pdf\n",
      "lightning_logs/pantheon-g10-100000-0-mphotoz/onlycosmo-fc/step/version_1/plots/pantheon-g10-100000-0-mphotoz-5-nre.pdf\n",
      "lightning_logs/pantheon-g10-100000-0-mphotoz/onlycosmo-fc/step/version_1/plots/pantheon-g10-100000-0-mphotoz-6-nre.pdf\n",
      "lightning_logs/pantheon-g10-100000-0-mphotoz/onlycosmo-fc/step/version_1/plots/pantheon-g10-100000-0-mphotoz-7-nre.pdf\n",
      "lightning_logs/pantheon-g10-100000-0-mphotoz/onlycosmo-fc/step/version_1/plots/pantheon-g10-100000-0-mphotoz-8-nre.pdf\n",
      "lightning_logs/pantheon-g10-100000-0-mphotoz/onlycosmo-fc/step/version_1/plots/pantheon-g10-100000-0-mphotoz-9-nre.pdf\n"
     ]
    }
   ],
   "source": [
    "for datatype, nre_versions in (('specz', list(range(4))), ('mphotoz', list(range(2)))):\n",
    "    for N in (10_000, 100_000):\n",
    "        simplesn = SimpleSN(survey='pantheon-g10', datatype=datatype, N=N, suffix=0)\n",
    "        config = simplesn.config('simplesn-marginal.yaml', gen=True)\n",
    "        hdis_mcmc = simplesn.hdi\n",
    "        \n",
    "        for nre_version in nre_versions:\n",
    "            plotter = ResultsPlotter(simplesn, config, nre_version)\n",
    "            for data_version in range(10):\n",
    "                ssn = plotter.simplesn.clone(version=data_version)\n",
    "\n",
    "        #         fig, axs = plotter.plot_nre_mc(ssn, hdis)\n",
    "        #         fig.savefig(plotter.plotdir / f'{ssn.data_prefix}-nre_mc.pdf')\n",
    "        #         plt.close()\n",
    "\n",
    "                fig = multi_posterior(plotter.nre, plotter.nrep, ssn.data)[plotter.nrepper.groups[0]]\n",
    "                fig.suptitle(ssn.data_prefix)\n",
    "                fig.savefig(fname := plotter.plotdir / f'{ssn.data_prefix}-nre.pdf')\n",
    "                plt.close()\n",
    "                \n",
    "                print(fname)"
   ]
  }
 ],
 "metadata": {
  "kernelspec": {
   "display_name": "Python 3 (ipykernel)",
   "language": "python",
   "name": "python3"
  },
  "language_info": {
   "codemirror_mode": {
    "name": "ipython",
    "version": 3
   },
   "file_extension": ".py",
   "mimetype": "text/x-python",
   "name": "python",
   "nbconvert_exporter": "python",
   "pygments_lexer": "ipython3",
   "version": "3.9.10"
  },
  "varInspector": {
   "cols": {
    "lenName": 16,
    "lenType": 16,
    "lenVar": 40
   },
   "kernels_config": {
    "python": {
     "delete_cmd_postfix": "",
     "delete_cmd_prefix": "del ",
     "library": "var_list.py",
     "varRefreshCmd": "print(var_dic_list())"
    },
    "r": {
     "delete_cmd_postfix": ") ",
     "delete_cmd_prefix": "rm(",
     "library": "var_list.r",
     "varRefreshCmd": "cat(var_dic_list()) "
    }
   },
   "types_to_exclude": [
    "module",
    "function",
    "builtin_function_or_method",
    "instance",
    "_Feature"
   ],
   "window_display": false
  }
 },
 "nbformat": 4,
 "nbformat_minor": 1
}