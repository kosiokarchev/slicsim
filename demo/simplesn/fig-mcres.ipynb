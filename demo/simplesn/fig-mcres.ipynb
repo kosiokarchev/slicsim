{
 "cells": [
  {
   "cell_type": "code",
   "execution_count": 1,
   "outputs": [],
   "source": [
    "from collections import OrderedDict\n",
    "from functools import partial\n",
    "from itertools import product\n",
    "\n",
    "import numpy as np\n",
    "import pandas as pd\n",
    "import xarray as xa\n",
    "from matplotlib import pyplot as plt\n",
    "from scipy.stats import gaussian_kde\n",
    "from tqdm.auto import tqdm\n",
    "\n",
    "from libplotting import to_multidict\n",
    "from libsimplesn import SimpleSN\n",
    "\n",
    "\n",
    "dims = OrderedDict((\n",
    "    ('N', (1_000, 2_000, 5_000, 10_000, 20_000, 50_000, 100_000)),\n",
    "    ('datatype', (\n",
    "        # 'specz', 'mphotoz',\n",
    "        'photoz',\n",
    "    )),\n",
    "    ('suffix', list(range(1))),\n",
    "    ('version', list(range(10)))\n",
    "))\n",
    "args = list(product(*dims.values()))\n",
    "\n",
    "\n",
    "def dewarmup(N, datatype):\n",
    "    return {'draw': slice(500 if datatype == 'photoz' else 200, None)}\n",
    "\n",
    "SURVEY = 'pantheon-g10'\n",
    "ssn = SimpleSN(SURVEY)"
   ],
   "metadata": {
    "collapsed": false,
    "pycharm": {
     "name": "#%%\n"
    }
   }
  },
  {
   "cell_type": "code",
   "execution_count": 2,
   "outputs": [
    {
     "data": {
      "text/plain": "  0%|          | 0/70 [00:00<?, ?it/s]",
      "application/vnd.jupyter.widget-view+json": {
       "version_major": 2,
       "version_minor": 0,
       "model_id": "d8351ac2a14f4202b7418eda21e4a210"
      }
     },
     "metadata": {},
     "output_type": "display_data"
    }
   ],
   "source": [
    "from multiprocessing import Pool\n",
    "\n",
    "\n",
    "def hdi2d(data: xa.Dataset, names: tuple[str, str]):\n",
    "    x1, x2 = (data[n].to_numpy().flatten() for n in names)\n",
    "    asort = np.argsort(gaussian_kde((x1, x2))((x1, x2)))\n",
    "    x1, x2 = x1[asort], x2[asort]\n",
    "    return x1, x2, np.linspace(1, 0, len(x1)+1)[1:]\n",
    "\n",
    "def do(N, datatype, suffix, version):\n",
    "    return (N, datatype, suffix, version), hdi2d(\n",
    "        SimpleSN(survey=SURVEY, N=N, suffix=suffix, datatype=datatype, version=version).emcee_result.to_dataset()[dewarmup(N, datatype)],\n",
    "        ('Om0', 'Ode0')\n",
    "    )\n",
    "\n",
    "def starmapper(func, args):\n",
    "    return func(*args)\n",
    "\n",
    "\n",
    "ssn.hdi = dict(tqdm(Pool().imap_unordered(partial(starmapper, do), args), total=len(args)))"
   ],
   "metadata": {
    "collapsed": false,
    "pycharm": {
     "name": "#%%\n"
    }
   }
  },
  {
   "cell_type": "code",
   "execution_count": 2,
   "outputs": [],
   "source": [
    "hdis = to_multidict(pd.Series(ssn.hdi))"
   ],
   "metadata": {
    "collapsed": false,
    "pycharm": {
     "name": "#%%\n"
    }
   }
  },
  {
   "cell_type": "code",
   "execution_count": 7,
   "outputs": [],
   "source": [
    "NSIGMA = 5.\n",
    "\n",
    "ssn.hdi_bounds = pd.DataFrame(_ := {\n",
    "    (datatype, N, key): dict(zip(('lower', 'upper'), val.to_numpy().tolist()))\n",
    "    for datatype in dims['datatype']\n",
    "    for val in [\n",
    "        xa.concat((\n",
    "            xa.concat((\n",
    "                xa.concat((\n",
    "                    SimpleSN(survey=SURVEY, N=N, suffix=suffix, datatype=datatype, version=version).emcee_result.to_dataset()\n",
    "                    for version in dims['version']\n",
    "                ), dim=pd.Index(dims['version'], name='version'))\n",
    "                for suffix in dims['suffix']\n",
    "            ), dim=pd.Index(dims['suffix'], name='suffix'))\n",
    "            for N in dims['N']\n",
    "        ), dim=pd.Index(dims['N'], name='N'))[dewarmup(N, datatype)]\n",
    "    ]\n",
    "    for m in [val.mean(('chain', 'draw'))]\n",
    "    for s in [val.std(('chain', 'draw'))]\n",
    "    for bds in [xa.concat(((m-NSIGMA*s).min(('suffix', 'version')), (m+NSIGMA*s).max(('suffix', 'version'))), pd.Index(['lower', 'upper'], name='bound'))]\n",
    "    for N in dims['N']\n",
    "    for key, val in bds.loc[{'N': N, 'bound': ['lower', 'upper']}].items()\n",
    "}, columns=pd.MultiIndex.from_tuples(_.keys(), names=('datatype', 'N', 'param')))"
   ],
   "metadata": {
    "collapsed": false,
    "pycharm": {
     "name": "#%%\n"
    }
   }
  },
  {
   "cell_type": "code",
   "execution_count": null,
   "outputs": [],
   "source": [
    "# bounds = {\n",
    "#     'mphotoz': {\n",
    "#         1_000: ((0, 0.7), (0, 1.5)),\n",
    "#         2_000: ((0, 0.7), (0, 1.5)),\n",
    "#         5_000: ((0., 0.6), (0., 1.2)),\n",
    "#         10_000: ((0.1, 0.5), (0.3, 1.1)),\n",
    "#         20_000: ((0.15, 0.5), (0.4, 1.1)),\n",
    "#         50_000: ((0.2, 0.4), (0.5, 0.9)),\n",
    "#         100_000: ((0.25, 0.35), (0.6, 0.8)),\n",
    "#     }\n",
    "# }"
   ],
   "metadata": {
    "collapsed": false,
    "pycharm": {
     "name": "#%%\n"
    }
   }
  },
  {
   "cell_type": "code",
   "execution_count": 23,
   "outputs": [
    {
     "name": "stderr",
     "output_type": "stream",
     "text": [
      "/tmp/ipykernel_29559/570564770.py:5: PerformanceWarning: indexing past lexsort depth may impact performance.\n",
      "  for N, _bds in ((N, bounds['mphotoz', N]) for N in bounds['mphotoz'].columns.get_level_values('N')):\n"
     ]
    }
   ],
   "source": [
    "from matplotlib.collections import LineCollection\n",
    "\n",
    "bounds = ssn.hdi_bounds\n",
    "\n",
    "for N, _bds in ((N, bounds['mphotoz', N]) for N in bounds['mphotoz'].columns.get_level_values('N')):\n",
    "    plt.figure()\n",
    "    plt.gca().add_collection(LineCollection((((0, 0.1), (1, 2.1)),), color='k'), autolim=False)\n",
    "\n",
    "    for hdi in hdis[N]['mphotoz'].values():\n",
    "        for hdi in hdi.values():\n",
    "            plt.tricontour(*hdi, levels=(0.9,), colors='g', alpha=0.7)\n",
    "\n",
    "    for hdi in hdis[N]['specz'].values():\n",
    "        for hdi in hdi.values():\n",
    "            plt.tricontour(*hdi, levels=(0.9,), colors='r', alpha=0.7)\n",
    "\n",
    "    plt.plot(0.3, 0.7, 'ko')\n",
    "    plt.gca().set_aspect('equal')\n",
    "    plt.xlim(_bds['Om0'])\n",
    "    plt.ylim(_bds['Ode0'])\n",
    "    plt.xlabel(r'$\\Omega_{m, 0}$'); plt.ylabel(r'$\\Omega_{\\Lambda, 0}$')\n",
    "\n",
    "    plt.legend([plt.Line2D([], [], color='g'), plt.Line2D([], [], color='r')], ['photoz', 'specz'], loc='upper left')\n",
    "    plt.text(0.98, 0.02, f'$N={N}$', va='bottom', ha='right', transform=plt.gca().transAxes)\n",
    "    plt.savefig(ssn.hdidir / f'pantheon-g10-{N}.png', bbox_inches='tight')\n",
    "    plt.close()"
   ],
   "metadata": {
    "collapsed": false,
    "pycharm": {
     "name": "#%%\n"
    }
   }
  }
 ],
 "metadata": {
  "kernelspec": {
   "display_name": "Python 3",
   "language": "python",
   "name": "python3"
  },
  "language_info": {
   "codemirror_mode": {
    "name": "ipython",
    "version": 2
   },
   "file_extension": ".py",
   "mimetype": "text/x-python",
   "name": "python",
   "nbconvert_exporter": "python",
   "pygments_lexer": "ipython2",
   "version": "2.7.6"
  }
 },
 "nbformat": 4,
 "nbformat_minor": 0
}