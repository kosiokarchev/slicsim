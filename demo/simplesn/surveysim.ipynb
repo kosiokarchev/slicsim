{
 "cells": [
  {
   "cell_type": "code",
   "execution_count": 1,
   "metadata": {
    "collapsed": true,
    "pycharm": {
     "name": "#%%\n"
    }
   },
   "outputs": [],
   "source": [
    "import torch\n",
    "\n",
    "from libsimplesn import SimpleSN\n",
    "\n",
    "\n",
    "simplesn = SimpleSN(survey='pantheon-g10')"
   ]
  },
  {
   "cell_type": "code",
   "execution_count": 2,
   "outputs": [],
   "source": [
    "zcmb = torch.load(simplesn._surveydir / f'{simplesn.survey}-zcmb.pt')\n",
    "vars = torch.load(simplesn._surveydir / f'{simplesn.survey}-vars.pt')\n",
    "\n",
    "N = len(zcmb)\n",
    "\n",
    "for simplesn.N in (\n",
    "    1_000, 2_000, 5_000,\n",
    "    10_000, 20_000, 50_000,\n",
    "    100_000,\n",
    "    # 200_000, 500_000, 1_000_000\n",
    "):\n",
    "    for simplesn.suffix in range(0, 1):\n",
    "        idx = (\n",
    "            torch.randint(N, size=(simplesn.N,)) if simplesn.N > N else\n",
    "            torch.randperm(N)[:simplesn.N] if simplesn.N < N else\n",
    "            torch.arange(N, dtype=torch.long)\n",
    "        )\n",
    "\n",
    "        simplesn.zcmb = zcmb[idx].cpu()\n",
    "        simplesn.vars_scale_tril = torch.linalg.cholesky(vars[idx]).cpu()\n",
    "\n",
    "        for cfgname, simplesn.datatype in (\n",
    "            ('simplesn.yaml', 'specz'),\n",
    "            ('simplesn.yaml', 'photoz'),\n",
    "            ('simplesn-marginal.yaml', 'mphotoz'),\n",
    "        ):\n",
    "            config = simplesn.config(cfgname, gen=True)\n",
    "\n",
    "            for simplesn.version in range(10):\n",
    "                simplesn.trace = trace = config.mock()\n",
    "                simplesn.data = {\n",
    "                    key: val.cpu() if torch.is_tensor(val) else val\n",
    "                    for key, val in trace.nodes.items()\n",
    "                    for val in [val['value']]}"
   ],
   "metadata": {
    "collapsed": false,
    "pycharm": {
     "name": "#%%\n"
    }
   }
  }
 ],
 "metadata": {
  "kernelspec": {
   "display_name": "Python 3",
   "language": "python",
   "name": "python3"
  },
  "language_info": {
   "codemirror_mode": {
    "name": "ipython",
    "version": 2
   },
   "file_extension": ".py",
   "mimetype": "text/x-python",
   "name": "python",
   "nbconvert_exporter": "python",
   "pygments_lexer": "ipython2",
   "version": "2.7.6"
  }
 },
 "nbformat": 4,
 "nbformat_minor": 0
}