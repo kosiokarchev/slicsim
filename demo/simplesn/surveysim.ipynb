{
 "cells": [
  {
   "cell_type": "code",
   "execution_count": 1,
   "metadata": {
    "collapsed": true,
    "pycharm": {
     "name": "#%%\n"
    }
   },
   "outputs": [],
   "source": [
    "import os\n",
    "\n",
    "import torch\n",
    "\n",
    "from libsimplesn import SimpleSN\n",
    "\n",
    "\n",
    "simplesn = SimpleSN(survey='jla', datatype='photoz')"
   ]
  },
  {
   "cell_type": "code",
   "execution_count": 2,
   "outputs": [],
   "source": [
    "zcmb = torch.load(simplesn._surveydir / f'{simplesn.survey}-zcmb.pt')\n",
    "covar = torch.load(simplesn._surveydir / f'{simplesn.survey}-covar.pt')\n",
    "vars = torch.load(simplesn._surveydir / f'{simplesn.survey}-vars.pt')\n",
    "\n",
    "N = len(zcmb)\n",
    "\n",
    "for simplesn.N in (100, 1000, 2000):\n",
    "    for simplesn.suffix in range(10):\n",
    "        idx = (\n",
    "            torch.randint(N, size=(simplesn.N,)) if simplesn.N > N else\n",
    "            torch.randperm(N)[:simplesn.N] if simplesn.N < N else\n",
    "            torch.arange(N, dtype=int)\n",
    "        )\n",
    "\n",
    "        os.makedirs(simplesn.datadir, exist_ok=True)\n",
    "        torch.save(zcmb[idx].cpu(), simplesn.zcmb_name)\n",
    "        torch.save(torch.linalg.cholesky(torch.block_diag(*vars[idx])).cpu(), simplesn.scale_tril_name)"
   ],
   "metadata": {
    "collapsed": false,
    "pycharm": {
     "name": "#%%\n"
    }
   }
  }
 ],
 "metadata": {
  "kernelspec": {
   "display_name": "Python 3",
   "language": "python",
   "name": "python3"
  },
  "language_info": {
   "codemirror_mode": {
    "name": "ipython",
    "version": 2
   },
   "file_extension": ".py",
   "mimetype": "text/x-python",
   "name": "python",
   "nbconvert_exporter": "python",
   "pygments_lexer": "ipython2",
   "version": "2.7.6"
  }
 },
 "nbformat": 4,
 "nbformat_minor": 0
}