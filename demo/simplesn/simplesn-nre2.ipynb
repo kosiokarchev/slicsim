{
 "cells": [
  {
   "cell_type": "code",
   "execution_count": 1,
   "metadata": {
    "ExecuteTime": {
     "end_time": "2022-04-10T12:34:33.600749Z",
     "start_time": "2022-04-10T12:34:23.897247Z"
    },
    "pycharm": {
     "name": "#%%\n"
    }
   },
   "outputs": [],
   "source": [
    "import os\n",
    "from warnings import filterwarnings\n",
    "\n",
    "import torch\n",
    "\n",
    "from clipppy.commands.nre.validate import MultiNREValidator\n",
    "# noinspection PyUnresolvedReferences\n",
    "from clipppy.patches import torch_numpy\n",
    "\n",
    "\n",
    "torch.set_default_tensor_type(torch.cuda.FloatTensor)\n",
    "\n",
    "\n",
    "filterwarnings('ignore', message='indexing past lexsort depth may impact performance.')\n",
    "filterwarnings('ignore', module='torch.nn.modules.lazy')\n",
    "filterwarnings('ignore', message='Named tensors')\n",
    "filterwarnings('ignore', module='pytorch_lightning.trainer.data_loading',\n",
    "               message='The dataloader, train_dataloader, does not have many workers')"
   ]
  },
  {
   "cell_type": "code",
   "execution_count": 2,
   "metadata": {
    "ExecuteTime": {
     "end_time": "2022-04-10T12:34:42.307844Z",
     "start_time": "2022-04-10T12:34:33.604372Z"
    },
    "pycharm": {
     "name": "#%%\n"
    }
   },
   "outputs": [],
   "source": [
    "from libsimplesn import SimpleSN\n",
    "\n",
    "simplesn = SimpleSN(survey='pantheon-g10', datatype='mphotoz', N=2_000, suffix=0, version=0)\n",
    "config = simplesn.config('simplesn-marginal.yaml', gen=True)\n",
    "defs = config.kwargs['defs']\n",
    "nre = config.lightning_nre"
   ]
  },
  {
   "cell_type": "markdown",
   "metadata": {
    "pycharm": {
     "name": "#%% md\n"
    }
   },
   "source": [
    "#### Enact constraints"
   ]
  },
  {
   "cell_type": "code",
   "execution_count": 3,
   "metadata": {
    "ExecuteTime": {
     "end_time": "2022-04-10T12:34:42.358868Z",
     "start_time": "2022-04-10T12:34:42.311627Z"
    },
    "pycharm": {
     "name": "#%%\n"
    }
   },
   "outputs": [
    {
     "data": {
      "text/plain": [
       "{'mean_x1': (-0.14367517968974275, 0.1620717020494652),\n",
       " 'mean_c': (-0.015384074488660648, 0.014917194403638435),\n",
       " 'log10_R_x1': (-0.04255821021574628, 0.05537624820292962),\n",
       " 'log10_R_c': (-1.0525528591230264, -0.9466537627692363),\n",
       " 'Om0': (-0.19035878579010057, 0.7069034571292946),\n",
       " 'Ode0': (-0.5128887348585609, 1.736940199103507),\n",
       " 'alpha': (0.07285661810403343, 0.2236113293941773),\n",
       " 'beta': (2.286168990065564, 3.913619512517845),\n",
       " 'mean_M0': (-19.748456623654715, -19.273431582009305),\n",
       " 'sigma_res': (-0.06325484654371223, 0.29706277981544366),\n",
       " 'sigma_z': (0.03315636378310852, 0.045306562727659344)}"
      ]
     },
     "execution_count": 3,
     "metadata": {},
     "output_type": "execute_result"
    }
   ],
   "source": [
    "from operator import itemgetter\n",
    "\n",
    "\n",
    "nre.dataset_config.kwargs['ranges'].update({\n",
    "    key: itemgetter('lower', 'upper')(val)\n",
    "    for key, val in simplesn.hdi_bounds[(simplesn.datatype, simplesn.N)].to_dict().items()\n",
    "})\n",
    "nre.dataset_config.kwargs['ranges']"
   ]
  },
  {
   "cell_type": "markdown",
   "metadata": {
    "pycharm": {
     "name": "#%% md\n"
    }
   },
   "source": [
    "#### Prepare plotting"
   ]
  },
  {
   "cell_type": "code",
   "execution_count": 4,
   "metadata": {
    "ExecuteTime": {
     "end_time": "2022-04-10T12:34:42.398472Z",
     "start_time": "2022-04-10T12:34:42.360685Z"
    },
    "pycharm": {
     "name": "#%%\n"
    }
   },
   "outputs": [],
   "source": [
    "from clipppy.utils.messengers import CollectSitesMessenger\n",
    "from typing import Iterable\n",
    "from clipppy.commands.nre import ClipppyDataset\n",
    "from collections import defaultdict\n",
    "from clipppy.utils.plotting.nre import MultiNREPlotter\n",
    "\n",
    "\n",
    "def get_priors(param_names: Iterable[str], dataset: ClipppyDataset):\n",
    "    with CollectSitesMessenger(*param_names) as trace:\n",
    "        dataset.get_trace()\n",
    "    return {name: site['fn'] for name, site in trace.items()}\n",
    "\n",
    "\n",
    "priors = get_priors(nre.param_names, nre.dataset.dataset)\n",
    "ranges = {key: (prior.support.lower_bound, prior.support.upper_bound) for key, prior in priors.items()}\n",
    "\n",
    "\n",
    "def nrepper(ngrid=256, ngrid_cosmo=32):\n",
    "    return MultiNREPlotter(\n",
    "        groups=[('Om0', 'Ode0')],\n",
    "        grid_sizes=defaultdict(lambda: ngrid, Om0=ngrid_cosmo, Ode0=ngrid_cosmo),\n",
    "        priors=priors, ranges=ranges, labels=defs['labels']\n",
    "    )\n",
    "\n",
    "ranges"
   ]
  },
  {
   "cell_type": "markdown",
   "metadata": {
    "pycharm": {
     "name": "#%% md\n"
    }
   },
   "source": [
    "####  Define network"
   ]
  },
  {
   "cell_type": "code",
   "execution_count": 5,
   "metadata": {
    "ExecuteTime": {
     "end_time": "2022-04-10T12:34:42.422075Z",
     "start_time": "2022-04-10T12:34:42.399766Z"
    },
    "pycharm": {
     "name": "#%%\n"
    }
   },
   "outputs": [],
   "source": [
    "from clipppy.commands.lightning.config.schedulers import StepLR\n",
    "from clipppy.commands.lightning.hyper import Scheduler\n",
    "from torch import nn\n",
    "from clipppy.commands.lightning import hyper as h\n",
    "from clipppy.utils.nn import Movedim, USequential\n",
    "from clipppy.commands.nre import MultiNRETail, UWhiteningTail, WhiteningHead\n",
    "\n",
    "\n",
    "MAX_BATCH = 32 if simplesn.N > 50_000 else 64\n",
    "STRUCTURE_NAME = 'onlycosmo-fc'\n",
    "HPARAMS_NAME = 'step'\n",
    "\n",
    "\n",
    "hp = h.Hyperparams(\n",
    "    h.Structure(\n",
    "        head=h.MLP(3, 128, 32),\n",
    "        tail=h.BaseHParams(\n",
    "            cosmo=h.Tail(\n",
    "                thead=h.MLP(2, 256),\n",
    "                xhead=h.BaseHParams(\n",
    "                    dropout=0.995,\n",
    "                    net=h.Linear(256)\n",
    "                ),\n",
    "                net=h.OMLP(3, 256)\n",
    "            )\n",
    "        )\n",
    "    ),\n",
    "    h.Training(1e-4, 64, Scheduler(StepLR, step_size=2000, gamma=0.5))\n",
    ")\n",
    "\n",
    "nre.head = WhiteningHead(head=USequential(\n",
    "    nn.Unflatten(-1, (-1, 3)),\n",
    "    hp.structure.head.make(),\n",
    "    Movedim(source=-1, destination=-2)\n",
    "), event_dims={'data': 2})\n",
    "nre.tail = MultiNRETail(tails={\n",
    "    ('Om0', 'Ode0'): UWhiteningTail(\n",
    "        thead=hp.structure.tail.cosmo.thead.make(),\n",
    "        xhead=nn.Sequential(nn.Flatten(-2), nn.Dropout(hp.structure.tail.cosmo.xhead.dropout), hp.structure.tail.cosmo.xhead.net.make()),\n",
    "#         xhead=nn.Sequential(\n",
    "#             convlayer(32, 100), nn.Flatten(-2), mlp(256)\n",
    "#         ),\n",
    "        net=hp.structure.tail.cosmo.net.make()),\n",
    "})\n",
    "\n",
    "nre.just_save_hyperparameters(dict(hp.collapse()))"
   ]
  },
  {
   "cell_type": "markdown",
   "metadata": {
    "pycharm": {
     "name": "#%% md\n"
    }
   },
   "source": [
    "#### Define learning"
   ]
  },
  {
   "cell_type": "code",
   "execution_count": 6,
   "metadata": {
    "ExecuteTime": {
     "end_time": "2022-04-10T12:34:42.432052Z",
     "start_time": "2022-04-10T12:34:42.424385Z"
    },
    "pycharm": {
     "name": "#%%\n"
    }
   },
   "outputs": [],
   "source": [
    "# Learning rate\n",
    "nre.lr = nre.hparams['training/lr']\n",
    "\n",
    "# Batch size\n",
    "assert (nre.hparams['training/batch_size'] < MAX_BATCH\n",
    "        or not nre.hparams['training/batch_size'] % MAX_BATCH)\n",
    "memory_batch_size = min(nre.hparams['training/batch_size'], MAX_BATCH)\n",
    "accumulate_grad_batches = nre.hparams['training/batch_size'] // memory_batch_size\n",
    "nre.dataset_config.kwargs['batch_size'] = memory_batch_size\n",
    "\n",
    "# Scheduler\n",
    "if hp.training.scheduler:\n",
    "    nre.scheduler_config = hp.training.scheduler.make()"
   ]
  },
  {
   "cell_type": "code",
   "execution_count": 7,
   "metadata": {
    "ExecuteTime": {
     "end_time": "2022-04-10T13:05:42.728171Z",
     "start_time": "2022-04-10T12:34:42.433800Z"
    },
    "pycharm": {
     "name": "#%%\n"
    }
   },
   "outputs": [
    {
     "name": "stderr",
     "output_type": "stream",
     "text": [
      "GPU available: True, used: True\n",
      "TPU available: False, using: 0 TPU cores\n",
      "IPU available: False, using: 0 IPUs\n",
      "LOCAL_RANK: 0 - CUDA_VISIBLE_DEVICES: [0]\n"
     ]
    },
    {
     "data": {
      "application/vnd.jupyter.widget-view+json": {
       "model_id": "ff6a556950e549138476ef9c8042571a",
       "version_major": 2,
       "version_minor": 0
      },
      "text/plain": [
       "Training: 0it [00:00, ?it/s]"
      ]
     },
     "metadata": {},
     "output_type": "display_data"
    },
    {
     "data": {
      "application/vnd.jupyter.widget-view+json": {
       "model_id": "f00c60322af04c98a77974dd168885b9",
       "version_major": 2,
       "version_minor": 0
      },
      "text/plain": [
       "  0%|          | 0/16 [00:00<?, ?it/s]"
      ]
     },
     "metadata": {},
     "output_type": "display_data"
    },
    {
     "data": {
      "application/vnd.jupyter.widget-view+json": {
       "model_id": "e326e9ba0ceb4ce7805134870c940ab6",
       "version_major": 2,
       "version_minor": 0
      },
      "text/plain": [
       "  0%|          | 0/16 [00:00<?, ?it/s]"
      ]
     },
     "metadata": {},
     "output_type": "display_data"
    },
    {
     "data": {
      "application/vnd.jupyter.widget-view+json": {
       "model_id": "bc19978d51cc4cbab7d8ff00a093038f",
       "version_major": 2,
       "version_minor": 0
      },
      "text/plain": [
       "  0%|          | 0/16 [00:00<?, ?it/s]"
      ]
     },
     "metadata": {},
     "output_type": "display_data"
    },
    {
     "data": {
      "application/vnd.jupyter.widget-view+json": {
       "model_id": "3d3cf580a47244379deec4b24d27e8c3",
       "version_major": 2,
       "version_minor": 0
      },
      "text/plain": [
       "  0%|          | 0/16 [00:00<?, ?it/s]"
      ]
     },
     "metadata": {},
     "output_type": "display_data"
    },
    {
     "data": {
      "application/vnd.jupyter.widget-view+json": {
       "model_id": "57ad69592ee44f98b1c4e999ec61b830",
       "version_major": 2,
       "version_minor": 0
      },
      "text/plain": [
       "  0%|          | 0/16 [00:00<?, ?it/s]"
      ]
     },
     "metadata": {},
     "output_type": "display_data"
    },
    {
     "data": {
      "application/vnd.jupyter.widget-view+json": {
       "model_id": "fa828b9528264d12b87b116ac6245685",
       "version_major": 2,
       "version_minor": 0
      },
      "text/plain": [
       "  0%|          | 0/16 [00:00<?, ?it/s]"
      ]
     },
     "metadata": {},
     "output_type": "display_data"
    },
    {
     "data": {
      "application/vnd.jupyter.widget-view+json": {
       "model_id": "9e6b11291b7c4559aa0abec89e02669d",
       "version_major": 2,
       "version_minor": 0
      },
      "text/plain": [
       "  0%|          | 0/16 [00:00<?, ?it/s]"
      ]
     },
     "metadata": {},
     "output_type": "display_data"
    },
    {
     "data": {
      "application/vnd.jupyter.widget-view+json": {
       "model_id": "e040e14bcb0c4f6282d632173f17ce65",
       "version_major": 2,
       "version_minor": 0
      },
      "text/plain": [
       "  0%|          | 0/16 [00:00<?, ?it/s]"
      ]
     },
     "metadata": {},
     "output_type": "display_data"
    },
    {
     "data": {
      "application/vnd.jupyter.widget-view+json": {
       "model_id": "ebaeb05d5dc144b6899582831c867436",
       "version_major": 2,
       "version_minor": 0
      },
      "text/plain": [
       "  0%|          | 0/16 [00:00<?, ?it/s]"
      ]
     },
     "metadata": {},
     "output_type": "display_data"
    },
    {
     "data": {
      "application/vnd.jupyter.widget-view+json": {
       "model_id": "ac0a6a0728b64162bfa851b6eeb3e031",
       "version_major": 2,
       "version_minor": 0
      },
      "text/plain": [
       "  0%|          | 0/16 [00:00<?, ?it/s]"
      ]
     },
     "metadata": {},
     "output_type": "display_data"
    },
    {
     "data": {
      "application/vnd.jupyter.widget-view+json": {
       "model_id": "0a9f762034874872a7a25fc1ed8ea42e",
       "version_major": 2,
       "version_minor": 0
      },
      "text/plain": [
       "  0%|          | 0/16 [00:00<?, ?it/s]"
      ]
     },
     "metadata": {},
     "output_type": "display_data"
    },
    {
     "data": {
      "application/vnd.jupyter.widget-view+json": {
       "model_id": "bdbf02f88bc544d8897b6e50d6b9b36f",
       "version_major": 2,
       "version_minor": 0
      },
      "text/plain": [
       "  0%|          | 0/16 [00:00<?, ?it/s]"
      ]
     },
     "metadata": {},
     "output_type": "display_data"
    },
    {
     "data": {
      "application/vnd.jupyter.widget-view+json": {
       "model_id": "11ce82e8ebcc497d9f19996ea4646cfc",
       "version_major": 2,
       "version_minor": 0
      },
      "text/plain": [
       "  0%|          | 0/16 [00:00<?, ?it/s]"
      ]
     },
     "metadata": {},
     "output_type": "display_data"
    },
    {
     "data": {
      "application/vnd.jupyter.widget-view+json": {
       "model_id": "1b577d394aa543e7b8d6b4e10727df42",
       "version_major": 2,
       "version_minor": 0
      },
      "text/plain": [
       "  0%|          | 0/16 [00:00<?, ?it/s]"
      ]
     },
     "metadata": {},
     "output_type": "display_data"
    },
    {
     "data": {
      "application/vnd.jupyter.widget-view+json": {
       "model_id": "8de35f9d0b4c4a1cbf6b10a54460fe1f",
       "version_major": 2,
       "version_minor": 0
      },
      "text/plain": [
       "  0%|          | 0/16 [00:00<?, ?it/s]"
      ]
     },
     "metadata": {},
     "output_type": "display_data"
    },
    {
     "data": {
      "application/vnd.jupyter.widget-view+json": {
       "model_id": "a07fc87bfdf041908d0ddd1c7a582dae",
       "version_major": 2,
       "version_minor": 0
      },
      "text/plain": [
       "  0%|          | 0/16 [00:00<?, ?it/s]"
      ]
     },
     "metadata": {},
     "output_type": "display_data"
    },
    {
     "data": {
      "application/vnd.jupyter.widget-view+json": {
       "model_id": "117b22086e7f42619c4fbf57cbc45450",
       "version_major": 2,
       "version_minor": 0
      },
      "text/plain": [
       "  0%|          | 0/16 [00:00<?, ?it/s]"
      ]
     },
     "metadata": {},
     "output_type": "display_data"
    },
    {
     "data": {
      "application/vnd.jupyter.widget-view+json": {
       "model_id": "9a7b4b46d1674f389bd28c00eaeb9375",
       "version_major": 2,
       "version_minor": 0
      },
      "text/plain": [
       "  0%|          | 0/16 [00:00<?, ?it/s]"
      ]
     },
     "metadata": {},
     "output_type": "display_data"
    },
    {
     "data": {
      "application/vnd.jupyter.widget-view+json": {
       "model_id": "abd7e2a98fa848eb99db4f3fc0c4378e",
       "version_major": 2,
       "version_minor": 0
      },
      "text/plain": [
       "  0%|          | 0/16 [00:00<?, ?it/s]"
      ]
     },
     "metadata": {},
     "output_type": "display_data"
    },
    {
     "data": {
      "application/vnd.jupyter.widget-view+json": {
       "model_id": "a093cadf26e344519524d998d8a9d669",
       "version_major": 2,
       "version_minor": 0
      },
      "text/plain": [
       "  0%|          | 0/16 [00:00<?, ?it/s]"
      ]
     },
     "metadata": {},
     "output_type": "display_data"
    },
    {
     "data": {
      "application/vnd.jupyter.widget-view+json": {
       "model_id": "64cde75b164042e3a9bca4001427dfad",
       "version_major": 2,
       "version_minor": 0
      },
      "text/plain": [
       "  0%|          | 0/16 [00:00<?, ?it/s]"
      ]
     },
     "metadata": {},
     "output_type": "display_data"
    }
   ],
   "source": [
    "from clipppy.commands.lightning.callbacks import MultiPosteriorCallback, MultiValidationCallback\n",
    "from clipppy.commands.lightning.patches import LearningRateMonitor, ModelCheckpoint, TensorBoardLogger, Trainer\n",
    "\n",
    "\n",
    "BASE_LOGDIR = 'lightning_logs'\n",
    "CHECKPOINT_EVERY = 2000\n",
    "VALIDATE_EVERY = 500\n",
    "VALIDATE_SAMPLES = 1024\n",
    "\n",
    "\n",
    "name = os.path.join(simplesn.basedata_prefix, STRUCTURE_NAME, HPARAMS_NAME)\n",
    "validator = MultiNREValidator(VALIDATE_SAMPLES // MAX_BATCH, MAX_BATCH, nre.dataset, nrepper())\n",
    "\n",
    "trainer = Trainer(\n",
    "    gpus=1, max_epochs=-1,\n",
    "    max_steps=10000,\n",
    "    logger=TensorBoardLogger(BASE_LOGDIR, name),\n",
    "    callbacks=[\n",
    "        MultiValidationCallback(VALIDATE_EVERY, nre, validator),\n",
    "        MultiPosteriorCallback(VALIDATE_EVERY, nre, validator.nrep, simplesn.data),\n",
    "        LearningRateMonitor(),\n",
    "        ModelCheckpoint(every_n_train_steps=CHECKPOINT_EVERY)\n",
    "    ],\n",
    "    accumulate_grad_batches=accumulate_grad_batches\n",
    ")\n",
    "trainer.fit(nre, nre.training_loader)"
   ]
  }
 ],
 "metadata": {
  "kernelspec": {
   "display_name": "Python 3 (ipykernel)",
   "language": "python",
   "name": "python3"
  },
  "language_info": {
   "codemirror_mode": {
    "name": "ipython",
    "version": 3
   },
   "file_extension": ".py",
   "mimetype": "text/x-python",
   "name": "python",
   "nbconvert_exporter": "python",
   "pygments_lexer": "ipython3",
   "version": "3.9.10"
  },
  "varInspector": {
   "cols": {
    "lenName": 16,
    "lenType": 16,
    "lenVar": 40
   },
   "kernels_config": {
    "python": {
     "delete_cmd_postfix": "",
     "delete_cmd_prefix": "del ",
     "library": "var_list.py",
     "varRefreshCmd": "print(var_dic_list())"
    },
    "r": {
     "delete_cmd_postfix": ") ",
     "delete_cmd_prefix": "rm(",
     "library": "var_list.r",
     "varRefreshCmd": "cat(var_dic_list()) "
    }
   },
   "types_to_exclude": [
    "module",
    "function",
    "builtin_function_or_method",
    "instance",
    "_Feature"
   ],
   "window_display": false
  }
 },
 "nbformat": 4,
 "nbformat_minor": 1
}