{
 "cells": [
  {
   "cell_type": "code",
   "execution_count": 1,
   "metadata": {
    "ExecuteTime": {
     "end_time": "2022-06-07T20:47:49.312853Z",
     "start_time": "2022-06-07T20:47:40.881820Z"
    },
    "pycharm": {
     "name": "#%%\n"
    }
   },
   "outputs": [],
   "source": [
    "import os\n",
    "from warnings import filterwarnings\n",
    "\n",
    "import torch\n",
    "\n",
    "from clipppy.commands.nre.validate import MultiNREValidator\n",
    "# noinspection PyUnresolvedReferences\n",
    "from clipppy.patches import torch_numpy\n",
    "\n",
    "\n",
    "torch.set_default_tensor_type(torch.cuda.FloatTensor)\n",
    "\n",
    "\n",
    "filterwarnings('ignore', message='indexing past lexsort depth may impact performance.')\n",
    "filterwarnings('ignore', module='torch.nn.modules.lazy')\n",
    "filterwarnings('ignore', message='Named tensors')\n",
    "filterwarnings('ignore', module='pytorch_lightning.trainer.data_loading',\n",
    "               message='The dataloader, train_dataloader, does not have many workers')"
   ]
  },
  {
   "cell_type": "code",
   "execution_count": null,
   "outputs": [],
   "source": [
    "from libsimplesn import SimpleSN\n",
    "\n",
    "simplesn = SimpleSN(survey='pantheon-g10', datatype='photoz', N=100_000, suffix=0, version=0)\n",
    "config = simplesn.config('simplesn.yaml', gen=True)\n",
    "defs = config.kwargs['defs']\n",
    "nre = config.lightning_nre\n",
    "\n",
    "ONLYCOSMO = True\n",
    "\n",
    "COSMOGROUP = 'Om0', 'Ode0'\n",
    "LATENT_PARAMS = 'M0',\n",
    "\n",
    "groups = [COSMOGROUP]\n",
    "if not ONLYCOSMO:\n",
    "    groups.extend(key for key in nre.param_names if key not in COSMOGROUP)"
   ],
   "metadata": {
    "collapsed": false,
    "pycharm": {
     "name": "#%%\n"
    }
   }
  },
  {
   "cell_type": "markdown",
   "source": [
    "#### Enact constraints"
   ],
   "metadata": {
    "collapsed": false,
    "pycharm": {
     "name": "#%% md\n"
    }
   }
  },
  {
   "cell_type": "code",
   "execution_count": null,
   "outputs": [],
   "source": [
    "ZOOMS_MANUAL = {100_000 : [{}, {\n",
    "    'Om0': (0, 0.75), 'Ode0': (0, 1.5),\n",
    "    'sigma_z': (0.03, 0.05),\n",
    "    'mean_M0': (-20, -19),\n",
    "    'sigma_res': (0, 0.6),\n",
    "    'mean_x1': (-0.5, 0.5),\n",
    "    'log10_R_x1': (-5, 0.2),\n",
    "    'mean_c': (-0.05, 0.05),\n",
    "    'log10_R_c': (-5, -0.8)\n",
    "}, {\n",
    "    'Om0': (0.1, 0.5), 'Ode0': (0, 1.1),\n",
    "    'sigma_z': (0.037, 0.043),\n",
    "    'mean_M0': (-19.7, -19.2),\n",
    "    'sigma_res': (0, 0.35),\n",
    "    'mean_x1': (-0.2, 0.2),\n",
    "    'log10_R_x1': (-0.2, 0.2),\n",
    "    'mean_c': (-0.01, 0.02),\n",
    "    'log10_R_c': (-1.2, -0.8)\n",
    "}, {\n",
    "    'Om0': (0.2, 0.5), 'Ode0': (0.4, 1),\n",
    "    'alpha': (0.08, 0.2), 'beta': (2.7, 3.5),\n",
    "    'sigma_z': (0.038, 0.042),\n",
    "    'mean_M0': (-19.55, -19.4),\n",
    "    'sigma_res': (0, 0.2),\n",
    "    'mean_x1': (-0.05, 0.05),\n",
    "    'log10_R_x1': (-0.05, 0.05),\n",
    "    'mean_c': (-0.005, 0.005),\n",
    "    'log10_R_c': (-1.05, -0.95)\n",
    "}, {\n",
    "#     'Om0': (0.22, 0.35), 'Ode0': (0.5, 0.8),\n",
    "    'Om0': (0.22, 0.38), 'Ode0': (0.5, 0.9),\n",
    "    'alpha': (0.12, 0.155), 'beta': (2.9, 3.2),\n",
    "    'sigma_z': (0.0385, 0.041),\n",
    "    'mean_M0': (-19.525, -19.46),\n",
    "    'sigma_res': (0.05, 0.15),\n",
    "    'mean_x1': (-0.02, 0.03),\n",
    "    'log10_R_x1': (-0.01, 0.01),\n",
    "    'mean_c': (-0.002, 0.003),\n",
    "    'log10_R_c': (-1.01, -0.99)\n",
    "}]}\n",
    "\n",
    "BOUNDS = simplesn.zoom_bounds\n",
    "# ZOOM_LEVEL = len(BOUNDS) - 1\n",
    "ZOOM_LEVEL = 5\n",
    "\n",
    "nre.dataset_config.kwargs['ranges'].update(BOUNDS[ZOOM_LEVEL])"
   ],
   "metadata": {
    "collapsed": false,
    "pycharm": {
     "name": "#%%\n"
    }
   }
  },
  {
   "cell_type": "markdown",
   "source": [
    "#### Prepare plotting"
   ],
   "metadata": {
    "collapsed": false,
    "pycharm": {
     "name": "#%% md\n"
    }
   }
  },
  {
   "cell_type": "code",
   "execution_count": null,
   "outputs": [],
   "source": [
    "from clipppy.utils.messengers import CollectSitesMessenger\n",
    "from typing import Iterable\n",
    "from clipppy.commands.nre import ClipppyDataset\n",
    "from collections import defaultdict\n",
    "from clipppy.utils.plotting.nre import MultiNREPlotter\n",
    "\n",
    "\n",
    "def get_priors(param_names: Iterable[str], dataset: ClipppyDataset):\n",
    "    with CollectSitesMessenger(*param_names) as trace:\n",
    "        dataset.get_trace()\n",
    "    return {name: site['fn'] for name, site in trace.items()}\n",
    "\n",
    "\n",
    "priors = get_priors(nre.param_names, nre.dataset.dataset)\n",
    "ranges = {key: (prior.support.lower_bound, prior.support.upper_bound) for key, prior in priors.items()}\n",
    "\n",
    "\n",
    "def nrepper(ngrid=256, ngrid_cosmo=32):\n",
    "    return MultiNREPlotter(\n",
    "        groups=groups,\n",
    "        grid_sizes=defaultdict(lambda: ngrid, Om0=ngrid_cosmo, Ode0=ngrid_cosmo),\n",
    "        priors=priors, ranges=ranges, labels=defs['labels']\n",
    "    )\n",
    "\n",
    "ranges"
   ],
   "metadata": {
    "collapsed": false,
    "pycharm": {
     "name": "#%%\n"
    }
   }
  },
  {
   "cell_type": "markdown",
   "source": [
    "####  Define network"
   ],
   "metadata": {
    "collapsed": false,
    "pycharm": {
     "name": "#%% md\n"
    }
   }
  },
  {
   "cell_type": "code",
   "execution_count": null,
   "outputs": [],
   "source": [
    "from clipppy.commands.lightning.config.schedulers import StepLR\n",
    "from clipppy.commands.lightning.hyper import Scheduler\n",
    "from torch import nn\n",
    "from clipppy.commands.lightning import hyper as h\n",
    "from clipppy.utils.nn import Movedim, USequential\n",
    "from clipppy.commands.nre import IUWhiteningTail, MultiNRETail, UWhiteningTail, WhiteningHead\n",
    "\n",
    "\n",
    "MAX_BATCH = 32 if simplesn.N > 50_000 else 64\n",
    "\n",
    "STRUCTURE_NAME = ('onlycosmo' if ONLYCOSMO else 'all') + '-' + str(ZOOM_LEVEL)\n",
    "\n",
    "# LR_NAME = 'lowlr'\n",
    "LR_NAME = 'step'\n",
    "\n",
    "STEP_SIZE = 5000\n",
    "MAX_STEPS = 20000\n",
    "\n",
    "\n",
    "hp = h.Hyperparams(\n",
    "    h.Structure(\n",
    "        head=h.BaseHParams(\n",
    "            pre=h.MLP(3, 128, 32),\n",
    "            summary=h.BaseHParams(\n",
    "                dropout=0.1,\n",
    "                net=h.MLP(3, 256)\n",
    "            )\n",
    "        ),\n",
    "        tail=h.BaseHParams(\n",
    "            cosmo=h.Tail(\n",
    "                thead=h.MLP(3, 256),\n",
    "                net=h.OMLP(3, 256)\n",
    "            ),\n",
    "            other=h.Tail(\n",
    "                thead=h.MLP(3, 256),\n",
    "                net=h.OMLP(3, 256)\n",
    "            ),\n",
    "            latent=h.BaseHParams(\n",
    "                ihead=h.MLP(3, 128, 16),\n",
    "                net=h.OMLP(3, 128),\n",
    "                subsample=None,\n",
    "            )\n",
    "        )\n",
    "    ),\n",
    "    h.Training(\n",
    "        1e-4, 64,\n",
    "        Scheduler(StepLR, step_size=STEP_SIZE, gamma=0.5)\n",
    "        if LR_NAME == 'step' else None\n",
    "    )\n",
    ")\n",
    "\n",
    "ADDITIONAL = torch.cat((\n",
    "    simplesn.zcmb.unsqueeze(-1),\n",
    "    simplesn.vars_scale_tril.flatten(-2)\n",
    "), -1)\n",
    "\n",
    "nre.head = WhiteningHead(head=nn.Sequential(\n",
    "    nn.Unflatten(-1, (-1, 3)),\n",
    "    hp.structure.head.pre.make(),\n",
    "    Movedim(source=-1, destination=-2),\n",
    "    USequential(\n",
    "        nn.Flatten(-2), nn.Dropout(hp.structure.head.summary.dropout), hp.structure.head.summary.net.make()\n",
    "    )\n",
    "), event_dims={'data': 2})\n",
    "nre.tail = MultiNRETail(tails={\n",
    "    COSMOGROUP: UWhiteningTail(\n",
    "        thead=hp.structure.tail.cosmo.thead.make(),\n",
    "        xhead=hp.structure.tail.cosmo.xhead.make(),\n",
    "#         xhead=nn.Sequential(nn.Dropout(hp.structure.tail.cosmo.xhead.dropout),\n",
    "#                             hp.structure.tail.cosmo.xhead.net.make()),\n",
    "        net=hp.structure.tail.cosmo.net.make()),\n",
    "    **{group: UWhiteningTail(\n",
    "        thead=hp.structure.tail.other.thead.make(),\n",
    "        xhead=hp.structure.tail.other.xhead.make(),\n",
    "#         xhead=nn.Sequential(nn.Dropout(hp.structure.tail.other.xhead.dropout),\n",
    "#                             hp.structure.tail.other.xhead.net.make()),\n",
    "        net=hp.structure.tail.other.net.make()\n",
    "    ) for group in groups if group is not COSMOGROUP},\n",
    "    **{group: IUWhiteningTail(\n",
    "        additional=ADDITIONAL,\n",
    "        ihead=hp.structure.tail.latent.ihead.make(),\n",
    "        net=hp.structure.tail.latent.net.make(),\n",
    "        subsample=hp.structure.tail.latent.subsample,\n",
    "        summarize=False\n",
    "    ) for group in LATENT_PARAMS}\n",
    "})\n",
    "\n",
    "nre.just_save_hyperparameters(dict(hp.collapse()))\n",
    "dict(hp.collapse())"
   ],
   "metadata": {
    "collapsed": false,
    "pycharm": {
     "name": "#%%\n"
    }
   }
  },
  {
   "cell_type": "markdown",
   "source": [
    "#### Define learning"
   ],
   "metadata": {
    "collapsed": false,
    "pycharm": {
     "name": "#%% md\n"
    }
   }
  },
  {
   "cell_type": "code",
   "execution_count": null,
   "outputs": [],
   "source": [
    "# Learning rate\n",
    "nre.lr = nre.hparams['training/lr']\n",
    "\n",
    "# Batch size\n",
    "assert (nre.hparams['training/batch_size'] < MAX_BATCH\n",
    "        or not nre.hparams['training/batch_size'] % MAX_BATCH)\n",
    "memory_batch_size = min(nre.hparams['training/batch_size'], MAX_BATCH)\n",
    "accumulate_grad_batches = nre.hparams['training/batch_size'] // memory_batch_size\n",
    "nre.dataset_config.kwargs['batch_size'] = memory_batch_size\n",
    "\n",
    "# Scheduler\n",
    "if hp.training.scheduler:\n",
    "    nre.scheduler_config = hp.training.scheduler.make()"
   ],
   "metadata": {
    "collapsed": false,
    "pycharm": {
     "name": "#%%\n"
    }
   }
  },
  {
   "cell_type": "code",
   "execution_count": null,
   "outputs": [],
   "source": [
    "from clipppy.commands.lightning.callbacks import MultiPosteriorCallback, MultiValidationCallback\n",
    "from clipppy.commands.lightning.patches import LearningRateMonitor, ModelCheckpoint, TensorBoardLogger, Trainer\n",
    "\n",
    "\n",
    "BASE_LOGDIR = 'lightning_logs'\n",
    "CHECKPOINT_EVERY = 2000\n",
    "VALIDATE_EVERY = 500\n",
    "VALIDATE_SAMPLES = 1024\n",
    "\n",
    "\n",
    "name = os.path.join(simplesn.basedata_prefix, STRUCTURE_NAME, LR_NAME)\n",
    "validator = MultiNREValidator(VALIDATE_SAMPLES // MAX_BATCH, MAX_BATCH, nre.dataset, nrepper())\n",
    "\n",
    "trainer = Trainer(\n",
    "    gpus=1, max_epochs=-1,\n",
    "    max_steps=MAX_STEPS,\n",
    "    logger=TensorBoardLogger(BASE_LOGDIR, name),\n",
    "    callbacks=[\n",
    "        MultiValidationCallback(VALIDATE_EVERY, nre, validator),\n",
    "        MultiPosteriorCallback(VALIDATE_EVERY, nre, validator.nrep, simplesn.data),\n",
    "        LearningRateMonitor(),\n",
    "        ModelCheckpoint(every_n_train_steps=CHECKPOINT_EVERY, save_top_k=1)\n",
    "    ],\n",
    "    accumulate_grad_batches=accumulate_grad_batches\n",
    ")\n",
    "trainer.fit(nre, nre.training_loader)"
   ],
   "metadata": {
    "collapsed": false,
    "pycharm": {
     "name": "#%%\n"
    }
   }
  },
  {
   "cell_type": "markdown",
   "source": [
    "#### Get next bounds"
   ],
   "metadata": {
    "collapsed": false,
    "pycharm": {
     "name": "#%% md\n"
    }
   }
  },
  {
   "cell_type": "code",
   "execution_count": null,
   "outputs": [],
   "source": [
    "THRESH = 1e-4\n",
    "\n",
    "nre.cuda(), nre.eval()\n",
    "\n",
    "posts = validator.nrep.post({key: simplesn.data[key] for key in nre.obs_names}, nre.head, nre.tail)\n",
    "(bounds := {\n",
    "    key: tuple(map(float, val))\n",
    "    for key, val in validator.nrep.get_bounds_from_post(posts, thresh=THRESH).items()\n",
    "})"
   ],
   "metadata": {
    "collapsed": false,
    "pycharm": {
     "name": "#%%\n"
    }
   }
  },
  {
   "cell_type": "code",
   "execution_count": null,
   "outputs": [],
   "source": [
    "for key, val in bounds.items():\n",
    "    print(key, (val[1] - val[0]) / (BOUNDS[ZOOM_LEVEL][key][1] - BOUNDS[ZOOM_LEVEL][key][0]))"
   ],
   "metadata": {
    "collapsed": false,
    "pycharm": {
     "name": "#%%\n"
    }
   }
  },
  {
   "cell_type": "code",
   "execution_count": null,
   "outputs": [],
   "source": [
    "BOUNDS.append(bounds)\n",
    "BOUNDS"
   ],
   "metadata": {
    "collapsed": false,
    "pycharm": {
     "name": "#%%\n"
    }
   }
  },
  {
   "cell_type": "code",
   "execution_count": null,
   "outputs": [],
   "source": [
    "simplesn.zoom_bounds = BOUNDS"
   ],
   "metadata": {
    "collapsed": false,
    "pycharm": {
     "name": "#%%\n"
    }
   }
  },
  {
   "cell_type": "code",
   "execution_count": 10,
   "metadata": {
    "ExecuteTime": {
     "end_time": "2022-06-06T22:41:11.851255Z",
     "start_time": "2022-06-06T22:41:11.837725Z"
    },
    "pycharm": {
     "name": "#%%\n"
    }
   },
   "outputs": [
    {
     "data": {
      "text/plain": [
       "[{},\n",
       " {'Om0': (0.03125, 0.90625),\n",
       "  'Ode0': (0.03125, 1.96875),\n",
       "  'sigma_z': (0.033259764313697815, 0.044919922947883606),\n",
       "  'mean_M0': (-20.408203125, -18.416015625),\n",
       "  'sigma_res': (0.026365235447883606, 0.9980488419532776),\n",
       "  'alpha': (0.001953125, 0.998046875),\n",
       "  'beta': (0.0078125, 3.9921875),\n",
       "  'mean_x1': (-0.19921875, 0.19921875),\n",
       "  'log10_R_x1': (-4.986328125, 0.208984375),\n",
       "  'mean_c': (-0.02460937574505806, 0.03867187723517418),\n",
       "  'log10_R_c': (-4.986328125, -0.611328125)},\n",
       " {'Om0': (0.044921875, 0.673828125),\n",
       "  'Ode0': (0.0615234375, 1.2724609375),\n",
       "  'sigma_z': (0.03656195476651192, 0.04325743764638901),\n",
       "  'mean_M0': (-19.696151733398438, -19.252578735351562),\n",
       "  'sigma_res': (0.02826305478811264, 0.38884878158569336),\n",
       "  'alpha': (0.00389862060546875, 0.8054428100585938),\n",
       "  'beta': (0.031158447265625, 3.984405517578125),\n",
       "  'mean_x1': (-0.0521392822265625, 0.1190643310546875),\n",
       "  'log10_R_x1': (-0.1664581298828125, 0.0973663330078125),\n",
       "  'mean_c': (-0.00792388990521431, 0.00962677039206028),\n",
       "  'log10_R_c': (-1.200927734375, -0.876220703125)},\n",
       " {'Om0': (0.05474853515625, 0.56573486328125),\n",
       "  'Ode0': (0.0804443359375, 1.2156982421875),\n",
       "  'sigma_z': (0.0379873588681221, 0.04175357148051262),\n",
       "  'mean_M0': (-19.54627227783203, -19.412853240966797),\n",
       "  'sigma_res': (0.028967320919036865, 0.1965833306312561),\n",
       "  'alpha': (0.10878819227218628, 0.22150534391403198),\n",
       "  'beta': (2.6640827655792236, 3.4979708194732666),\n",
       "  'mean_x1': (-0.03508579730987549, 0.03112185001373291),\n",
       "  'log10_R_x1': (-0.020633280277252197, 0.013375341892242432),\n",
       "  'mean_c': (-0.0024735871702432632, 0.004245025105774403),\n",
       "  'log10_R_c': (-1.026524543762207, -0.9846677780151367)},\n",
       " {'Om0': (0.17451095581054688, 0.3820991516113281),\n",
       "  'Ode0': (0.41747283935546875, 0.8431930541992188),\n",
       "  'sigma_z': (0.03884799778461456, 0.041334282606840134),\n",
       "  'mean_M0': (-19.526729583740234, -19.44125747680664),\n",
       "  'sigma_res': (0.0292946957051754, 0.1432211995124817),\n",
       "  'alpha': (0.12662039697170258, 0.15788179636001587),\n",
       "  'beta': (2.877440929412842, 3.20969295501709),\n",
       "  'mean_x1': (-0.030559882521629333, 0.02349245175719261),\n",
       "  'log10_R_x1': (-0.007149392738938332, 0.00932353362441063),\n",
       "  'mean_c': (-0.002460464835166931, 0.004179413430392742),\n",
       "  'log10_R_c': (-1.006495475769043, -0.988019585609436)},\n",
       " {'Om0': (0.24911296367645264, 0.3658813238143921),\n",
       "  'Ode0': (0.5172510147094727, 0.823237419128418),\n",
       "  'sigma_z': (0.03894025832414627, 0.04072728008031845),\n",
       "  'mean_M0': (-19.515209197998047, -19.455448150634766),\n",
       "  'sigma_res': (0.06333913654088974, 0.13231807947158813),\n",
       "  'alpha': (0.12887951731681824, 0.14939481019973755),\n",
       "  'beta': (2.968940019607544, 3.172703981399536),\n",
       "  'mean_x1': (-0.019052647054195404, 0.020219752565026283),\n",
       "  'log10_R_x1': (-0.007117219269275665, 0.0046583497896790504),\n",
       "  'mean_c': (-0.0024474961683154106, 0.001157750142738223),\n",
       "  'log10_R_c': (-1.0064594745635986, -0.9918807744979858)},\n",
       " {'Om0': (0.25823551416397095, 0.36040782928466797),\n",
       "  'Ode0': (0.5698424577713013, 0.8184564113616943),\n",
       "  'sigma_z': (0.03922296687960625, 0.04072378948330879),\n",
       "  'mean_M0': (-19.515092849731445, -19.464902877807617),\n",
       "  'sigma_res': (0.07021008431911469, 0.13164444267749786),\n",
       "  'alpha': (0.1289195865392685, 0.1493547409772873),\n",
       "  'beta': (3.000380039215088, 3.1723060607910156),\n",
       "  'mean_x1': (-0.018975943326950073, 0.020143048837780952),\n",
       "  'log10_R_x1': (-0.007094220258295536, 0.004635350778698921),\n",
       "  'mean_c': (-0.0021869607735425234, 0.001150708645582199),\n",
       "  'log10_R_c': (-1.0056337118148804, -0.9932190179824829)}]"
      ]
     },
     "execution_count": 10,
     "metadata": {},
     "output_type": "execute_result"
    }
   ],
   "source": [
    "BOUNDS.append(bounds)\n",
    "BOUNDS"
   ]
  },
  {
   "cell_type": "code",
   "execution_count": 11,
   "metadata": {
    "ExecuteTime": {
     "end_time": "2022-06-06T22:41:13.696736Z",
     "start_time": "2022-06-06T22:41:13.688721Z"
    },
    "pycharm": {
     "name": "#%%\n"
    }
   },
   "outputs": [],
   "source": [
    "simplesn.zoom_bounds = BOUNDS"
   ]
  }
 ],
 "metadata": {
  "kernelspec": {
   "display_name": "Python 3 (ipykernel)",
   "language": "python",
   "name": "python3"
  },
  "language_info": {
   "codemirror_mode": {
    "name": "ipython",
    "version": 3
   },
   "file_extension": ".py",
   "mimetype": "text/x-python",
   "name": "python",
   "nbconvert_exporter": "python",
   "pygments_lexer": "ipython3",
   "version": "3.9.10"
  },
  "varInspector": {
   "cols": {
    "lenName": 16,
    "lenType": 16,
    "lenVar": 40
   },
   "kernels_config": {
    "python": {
     "delete_cmd_postfix": "",
     "delete_cmd_prefix": "del ",
     "library": "var_list.py",
     "varRefreshCmd": "print(var_dic_list())"
    },
    "r": {
     "delete_cmd_postfix": ") ",
     "delete_cmd_prefix": "rm(",
     "library": "var_list.r",
     "varRefreshCmd": "cat(var_dic_list()) "
    }
   },
   "types_to_exclude": [
    "module",
    "function",
    "builtin_function_or_method",
    "instance",
    "_Feature"
   ],
   "window_display": false
  }
 },
 "nbformat": 4,
 "nbformat_minor": 1
}