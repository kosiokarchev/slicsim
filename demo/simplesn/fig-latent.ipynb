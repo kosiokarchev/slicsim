{
 "cells": [
  {
   "cell_type": "code",
   "execution_count": 1,
   "outputs": [],
   "source": [
    "from operator import itemgetter\n",
    "\n",
    "import pyro\n",
    "import torch\n",
    "from matplotlib import pyplot as plt\n",
    "\n",
    "# noinspection PyUnresolvedReferences\n",
    "from clipppy.patches import torch_numpy\n",
    "from libsimplesn import SimpleSN"
   ],
   "metadata": {
    "collapsed": false,
    "pycharm": {
     "name": "#%%\n"
    }
   }
  },
  {
   "cell_type": "markdown",
   "source": [
    "### NRE"
   ],
   "metadata": {
    "collapsed": false,
    "pycharm": {
     "name": "#%% md\n"
    }
   }
  },
  {
   "cell_type": "code",
   "execution_count": null,
   "outputs": [],
   "source": [
    "simplesn = SimpleSN(survey='pantheon-g10', datatype='specz', N=100_000, suffix=0, version=0)\n",
    "config = simplesn.config('simplesn.yaml', gen=True, latent=True)\n",
    "nre = config.lightning_nre\n",
    "\n",
    "LATENT_PARAMS = 'M0',"
   ],
   "metadata": {
    "collapsed": false,
    "pycharm": {
     "name": "#%%\n"
    }
   }
  },
  {
   "cell_type": "code",
   "execution_count": null,
   "outputs": [],
   "source": [
    "from libplotting import get_priors\n",
    "\n",
    "nre.dataset_config.kwargs['ranges'].update({\n",
    "    key: itemgetter('lower', 'upper')(val)\n",
    "    for key, val in simplesn.hdi_bounds[(simplesn.datatype, simplesn.N)].to_dict().items()\n",
    "})\n",
    "priors = get_priors(set(nre.param_names) - set(LATENT_PARAMS), nre.dataset.dataset)\n",
    "ranges = {key: (prior.support.lower_bound, prior.support.upper_bound) for key, prior in priors.items()}\n",
    "ranges"
   ],
   "metadata": {
    "collapsed": false,
    "pycharm": {
     "name": "#%%\n"
    }
   }
  },
  {
   "cell_type": "code",
   "execution_count": null,
   "outputs": [],
   "source": [
    "from clipppy.stochastic import find_sampler\n",
    "from clipppy.utils.messengers import CollectSitesMessenger\n",
    "\n",
    "\n",
    "with CollectSitesMessenger(*LATENT_PARAMS) as prior_samples, pyro.plate('plate', 10000), nre.dataset.dataset.context:\n",
    "    find_sampler(config._model, 'M0')()\n",
    "prior_samples = {key: prior_samples[key]['value'] for key in LATENT_PARAMS}\n",
    "\n",
    "plt.hist(prior_samples['M0'][:, 0].numpy(), bins=100, density=True)\n",
    "plt.plot(_:=torch.linspace(-20, -19, 101), torch.distributions.Normal(-19.5, 0.1).log_prob(_).exp_());"
   ],
   "metadata": {
    "collapsed": false,
    "pycharm": {
     "name": "#%%\n"
    }
   }
  },
  {
   "cell_type": "markdown",
   "source": [
    "### MCMC"
   ],
   "metadata": {
    "collapsed": false,
    "pycharm": {
     "name": "#%% md\n"
    }
   }
  },
  {
   "cell_type": "code",
   "execution_count": 3,
   "outputs": [
    {
     "name": "stdout",
     "output_type": "stream",
     "text": [
      "res/pantheon-g10/pantheon-g10-1000-0/plots/pantheon-g10-1000-0-mphotoz-0-emcee-latent.png\n",
      "res/pantheon-g10/pantheon-g10-1000-0/plots/pantheon-g10-1000-0-mphotoz-1-emcee-latent.png\n",
      "res/pantheon-g10/pantheon-g10-1000-0/plots/pantheon-g10-1000-0-mphotoz-2-emcee-latent.png\n",
      "res/pantheon-g10/pantheon-g10-1000-0/plots/pantheon-g10-1000-0-mphotoz-3-emcee-latent.png\n",
      "res/pantheon-g10/pantheon-g10-1000-0/plots/pantheon-g10-1000-0-mphotoz-4-emcee-latent.png\n",
      "res/pantheon-g10/pantheon-g10-1000-0/plots/pantheon-g10-1000-0-mphotoz-5-emcee-latent.png\n",
      "res/pantheon-g10/pantheon-g10-1000-0/plots/pantheon-g10-1000-0-mphotoz-6-emcee-latent.png\n",
      "res/pantheon-g10/pantheon-g10-1000-0/plots/pantheon-g10-1000-0-mphotoz-7-emcee-latent.png\n",
      "res/pantheon-g10/pantheon-g10-1000-0/plots/pantheon-g10-1000-0-mphotoz-8-emcee-latent.png\n",
      "res/pantheon-g10/pantheon-g10-1000-0/plots/pantheon-g10-1000-0-mphotoz-9-emcee-latent.png\n",
      "res/pantheon-g10/pantheon-g10-1000-0/plots/pantheon-g10-1000-0-specz-0-emcee-latent.png\n",
      "res/pantheon-g10/pantheon-g10-1000-0/plots/pantheon-g10-1000-0-specz-1-emcee-latent.png\n",
      "res/pantheon-g10/pantheon-g10-1000-0/plots/pantheon-g10-1000-0-specz-2-emcee-latent.png\n",
      "res/pantheon-g10/pantheon-g10-1000-0/plots/pantheon-g10-1000-0-specz-3-emcee-latent.png\n",
      "res/pantheon-g10/pantheon-g10-1000-0/plots/pantheon-g10-1000-0-specz-4-emcee-latent.png\n",
      "res/pantheon-g10/pantheon-g10-1000-0/plots/pantheon-g10-1000-0-specz-5-emcee-latent.png\n",
      "res/pantheon-g10/pantheon-g10-1000-0/plots/pantheon-g10-1000-0-specz-6-emcee-latent.png\n",
      "res/pantheon-g10/pantheon-g10-1000-0/plots/pantheon-g10-1000-0-specz-7-emcee-latent.png\n",
      "res/pantheon-g10/pantheon-g10-1000-0/plots/pantheon-g10-1000-0-specz-8-emcee-latent.png\n",
      "res/pantheon-g10/pantheon-g10-1000-0/plots/pantheon-g10-1000-0-specz-9-emcee-latent.png\n",
      "res/pantheon-g10/pantheon-g10-2000-0/plots/pantheon-g10-2000-0-mphotoz-0-emcee-latent.png\n",
      "res/pantheon-g10/pantheon-g10-2000-0/plots/pantheon-g10-2000-0-mphotoz-1-emcee-latent.png\n",
      "res/pantheon-g10/pantheon-g10-2000-0/plots/pantheon-g10-2000-0-mphotoz-2-emcee-latent.png\n",
      "res/pantheon-g10/pantheon-g10-2000-0/plots/pantheon-g10-2000-0-mphotoz-3-emcee-latent.png\n",
      "res/pantheon-g10/pantheon-g10-2000-0/plots/pantheon-g10-2000-0-mphotoz-4-emcee-latent.png\n",
      "res/pantheon-g10/pantheon-g10-2000-0/plots/pantheon-g10-2000-0-mphotoz-5-emcee-latent.png\n",
      "res/pantheon-g10/pantheon-g10-2000-0/plots/pantheon-g10-2000-0-mphotoz-6-emcee-latent.png\n",
      "res/pantheon-g10/pantheon-g10-2000-0/plots/pantheon-g10-2000-0-mphotoz-7-emcee-latent.png\n",
      "res/pantheon-g10/pantheon-g10-2000-0/plots/pantheon-g10-2000-0-mphotoz-8-emcee-latent.png\n",
      "res/pantheon-g10/pantheon-g10-2000-0/plots/pantheon-g10-2000-0-mphotoz-9-emcee-latent.png\n",
      "res/pantheon-g10/pantheon-g10-2000-0/plots/pantheon-g10-2000-0-specz-0-emcee-latent.png\n",
      "res/pantheon-g10/pantheon-g10-2000-0/plots/pantheon-g10-2000-0-specz-1-emcee-latent.png\n",
      "res/pantheon-g10/pantheon-g10-2000-0/plots/pantheon-g10-2000-0-specz-2-emcee-latent.png\n",
      "res/pantheon-g10/pantheon-g10-2000-0/plots/pantheon-g10-2000-0-specz-3-emcee-latent.png\n",
      "res/pantheon-g10/pantheon-g10-2000-0/plots/pantheon-g10-2000-0-specz-4-emcee-latent.png\n",
      "res/pantheon-g10/pantheon-g10-2000-0/plots/pantheon-g10-2000-0-specz-5-emcee-latent.png\n",
      "res/pantheon-g10/pantheon-g10-2000-0/plots/pantheon-g10-2000-0-specz-6-emcee-latent.png\n",
      "res/pantheon-g10/pantheon-g10-2000-0/plots/pantheon-g10-2000-0-specz-7-emcee-latent.png\n",
      "res/pantheon-g10/pantheon-g10-2000-0/plots/pantheon-g10-2000-0-specz-8-emcee-latent.png\n",
      "res/pantheon-g10/pantheon-g10-2000-0/plots/pantheon-g10-2000-0-specz-9-emcee-latent.png\n",
      "res/pantheon-g10/pantheon-g10-5000-0/plots/pantheon-g10-5000-0-mphotoz-0-emcee-latent.png\n",
      "res/pantheon-g10/pantheon-g10-5000-0/plots/pantheon-g10-5000-0-mphotoz-1-emcee-latent.png\n",
      "res/pantheon-g10/pantheon-g10-5000-0/plots/pantheon-g10-5000-0-mphotoz-2-emcee-latent.png\n",
      "res/pantheon-g10/pantheon-g10-5000-0/plots/pantheon-g10-5000-0-mphotoz-3-emcee-latent.png\n",
      "res/pantheon-g10/pantheon-g10-5000-0/plots/pantheon-g10-5000-0-mphotoz-4-emcee-latent.png\n",
      "res/pantheon-g10/pantheon-g10-5000-0/plots/pantheon-g10-5000-0-mphotoz-5-emcee-latent.png\n",
      "res/pantheon-g10/pantheon-g10-5000-0/plots/pantheon-g10-5000-0-mphotoz-6-emcee-latent.png\n",
      "res/pantheon-g10/pantheon-g10-5000-0/plots/pantheon-g10-5000-0-mphotoz-7-emcee-latent.png\n",
      "res/pantheon-g10/pantheon-g10-5000-0/plots/pantheon-g10-5000-0-mphotoz-8-emcee-latent.png\n",
      "res/pantheon-g10/pantheon-g10-5000-0/plots/pantheon-g10-5000-0-mphotoz-9-emcee-latent.png\n",
      "res/pantheon-g10/pantheon-g10-5000-0/plots/pantheon-g10-5000-0-specz-0-emcee-latent.png\n",
      "res/pantheon-g10/pantheon-g10-5000-0/plots/pantheon-g10-5000-0-specz-1-emcee-latent.png\n",
      "res/pantheon-g10/pantheon-g10-5000-0/plots/pantheon-g10-5000-0-specz-2-emcee-latent.png\n",
      "res/pantheon-g10/pantheon-g10-5000-0/plots/pantheon-g10-5000-0-specz-3-emcee-latent.png\n",
      "res/pantheon-g10/pantheon-g10-5000-0/plots/pantheon-g10-5000-0-specz-4-emcee-latent.png\n",
      "res/pantheon-g10/pantheon-g10-5000-0/plots/pantheon-g10-5000-0-specz-5-emcee-latent.png\n",
      "res/pantheon-g10/pantheon-g10-5000-0/plots/pantheon-g10-5000-0-specz-6-emcee-latent.png\n",
      "res/pantheon-g10/pantheon-g10-5000-0/plots/pantheon-g10-5000-0-specz-7-emcee-latent.png\n",
      "res/pantheon-g10/pantheon-g10-5000-0/plots/pantheon-g10-5000-0-specz-8-emcee-latent.png\n",
      "res/pantheon-g10/pantheon-g10-5000-0/plots/pantheon-g10-5000-0-specz-9-emcee-latent.png\n",
      "res/pantheon-g10/pantheon-g10-10000-0/plots/pantheon-g10-10000-0-mphotoz-0-emcee-latent.png\n",
      "res/pantheon-g10/pantheon-g10-10000-0/plots/pantheon-g10-10000-0-mphotoz-1-emcee-latent.png\n",
      "res/pantheon-g10/pantheon-g10-10000-0/plots/pantheon-g10-10000-0-mphotoz-2-emcee-latent.png\n",
      "res/pantheon-g10/pantheon-g10-10000-0/plots/pantheon-g10-10000-0-mphotoz-3-emcee-latent.png\n",
      "res/pantheon-g10/pantheon-g10-10000-0/plots/pantheon-g10-10000-0-mphotoz-4-emcee-latent.png\n",
      "res/pantheon-g10/pantheon-g10-10000-0/plots/pantheon-g10-10000-0-mphotoz-5-emcee-latent.png\n",
      "res/pantheon-g10/pantheon-g10-10000-0/plots/pantheon-g10-10000-0-mphotoz-6-emcee-latent.png\n",
      "res/pantheon-g10/pantheon-g10-10000-0/plots/pantheon-g10-10000-0-mphotoz-7-emcee-latent.png\n",
      "res/pantheon-g10/pantheon-g10-10000-0/plots/pantheon-g10-10000-0-mphotoz-8-emcee-latent.png\n",
      "res/pantheon-g10/pantheon-g10-10000-0/plots/pantheon-g10-10000-0-mphotoz-9-emcee-latent.png\n",
      "res/pantheon-g10/pantheon-g10-10000-0/plots/pantheon-g10-10000-0-specz-0-emcee-latent.png\n",
      "res/pantheon-g10/pantheon-g10-10000-0/plots/pantheon-g10-10000-0-specz-1-emcee-latent.png\n",
      "res/pantheon-g10/pantheon-g10-10000-0/plots/pantheon-g10-10000-0-specz-2-emcee-latent.png\n",
      "res/pantheon-g10/pantheon-g10-10000-0/plots/pantheon-g10-10000-0-specz-3-emcee-latent.png\n",
      "res/pantheon-g10/pantheon-g10-10000-0/plots/pantheon-g10-10000-0-specz-4-emcee-latent.png\n",
      "res/pantheon-g10/pantheon-g10-10000-0/plots/pantheon-g10-10000-0-specz-5-emcee-latent.png\n",
      "res/pantheon-g10/pantheon-g10-10000-0/plots/pantheon-g10-10000-0-specz-6-emcee-latent.png\n",
      "res/pantheon-g10/pantheon-g10-10000-0/plots/pantheon-g10-10000-0-specz-7-emcee-latent.png\n",
      "res/pantheon-g10/pantheon-g10-10000-0/plots/pantheon-g10-10000-0-specz-8-emcee-latent.png\n",
      "res/pantheon-g10/pantheon-g10-10000-0/plots/pantheon-g10-10000-0-specz-9-emcee-latent.png\n",
      "res/pantheon-g10/pantheon-g10-20000-0/plots/pantheon-g10-20000-0-mphotoz-0-emcee-latent.png\n",
      "res/pantheon-g10/pantheon-g10-20000-0/plots/pantheon-g10-20000-0-mphotoz-1-emcee-latent.png\n",
      "res/pantheon-g10/pantheon-g10-20000-0/plots/pantheon-g10-20000-0-mphotoz-2-emcee-latent.png\n",
      "res/pantheon-g10/pantheon-g10-20000-0/plots/pantheon-g10-20000-0-mphotoz-3-emcee-latent.png\n",
      "res/pantheon-g10/pantheon-g10-20000-0/plots/pantheon-g10-20000-0-mphotoz-4-emcee-latent.png\n",
      "res/pantheon-g10/pantheon-g10-20000-0/plots/pantheon-g10-20000-0-mphotoz-5-emcee-latent.png\n",
      "res/pantheon-g10/pantheon-g10-20000-0/plots/pantheon-g10-20000-0-mphotoz-6-emcee-latent.png\n",
      "res/pantheon-g10/pantheon-g10-20000-0/plots/pantheon-g10-20000-0-mphotoz-7-emcee-latent.png\n",
      "res/pantheon-g10/pantheon-g10-20000-0/plots/pantheon-g10-20000-0-mphotoz-8-emcee-latent.png\n",
      "res/pantheon-g10/pantheon-g10-20000-0/plots/pantheon-g10-20000-0-mphotoz-9-emcee-latent.png\n",
      "res/pantheon-g10/pantheon-g10-20000-0/plots/pantheon-g10-20000-0-specz-0-emcee-latent.png\n",
      "res/pantheon-g10/pantheon-g10-20000-0/plots/pantheon-g10-20000-0-specz-1-emcee-latent.png\n",
      "res/pantheon-g10/pantheon-g10-20000-0/plots/pantheon-g10-20000-0-specz-2-emcee-latent.png\n",
      "res/pantheon-g10/pantheon-g10-20000-0/plots/pantheon-g10-20000-0-specz-3-emcee-latent.png\n",
      "res/pantheon-g10/pantheon-g10-20000-0/plots/pantheon-g10-20000-0-specz-4-emcee-latent.png\n",
      "res/pantheon-g10/pantheon-g10-20000-0/plots/pantheon-g10-20000-0-specz-5-emcee-latent.png\n",
      "res/pantheon-g10/pantheon-g10-20000-0/plots/pantheon-g10-20000-0-specz-6-emcee-latent.png\n",
      "res/pantheon-g10/pantheon-g10-20000-0/plots/pantheon-g10-20000-0-specz-7-emcee-latent.png\n",
      "res/pantheon-g10/pantheon-g10-20000-0/plots/pantheon-g10-20000-0-specz-8-emcee-latent.png\n",
      "res/pantheon-g10/pantheon-g10-20000-0/plots/pantheon-g10-20000-0-specz-9-emcee-latent.png\n",
      "res/pantheon-g10/pantheon-g10-50000-0/plots/pantheon-g10-50000-0-mphotoz-0-emcee-latent.png\n",
      "res/pantheon-g10/pantheon-g10-50000-0/plots/pantheon-g10-50000-0-mphotoz-1-emcee-latent.png\n",
      "res/pantheon-g10/pantheon-g10-50000-0/plots/pantheon-g10-50000-0-mphotoz-2-emcee-latent.png\n",
      "res/pantheon-g10/pantheon-g10-50000-0/plots/pantheon-g10-50000-0-mphotoz-3-emcee-latent.png\n",
      "res/pantheon-g10/pantheon-g10-50000-0/plots/pantheon-g10-50000-0-mphotoz-4-emcee-latent.png\n",
      "res/pantheon-g10/pantheon-g10-50000-0/plots/pantheon-g10-50000-0-mphotoz-5-emcee-latent.png\n",
      "res/pantheon-g10/pantheon-g10-50000-0/plots/pantheon-g10-50000-0-mphotoz-6-emcee-latent.png\n",
      "res/pantheon-g10/pantheon-g10-50000-0/plots/pantheon-g10-50000-0-mphotoz-7-emcee-latent.png\n",
      "res/pantheon-g10/pantheon-g10-50000-0/plots/pantheon-g10-50000-0-mphotoz-8-emcee-latent.png\n",
      "res/pantheon-g10/pantheon-g10-50000-0/plots/pantheon-g10-50000-0-mphotoz-9-emcee-latent.png\n",
      "res/pantheon-g10/pantheon-g10-50000-0/plots/pantheon-g10-50000-0-specz-0-emcee-latent.png\n",
      "res/pantheon-g10/pantheon-g10-50000-0/plots/pantheon-g10-50000-0-specz-1-emcee-latent.png\n",
      "res/pantheon-g10/pantheon-g10-50000-0/plots/pantheon-g10-50000-0-specz-2-emcee-latent.png\n",
      "res/pantheon-g10/pantheon-g10-50000-0/plots/pantheon-g10-50000-0-specz-3-emcee-latent.png\n",
      "res/pantheon-g10/pantheon-g10-50000-0/plots/pantheon-g10-50000-0-specz-4-emcee-latent.png\n",
      "res/pantheon-g10/pantheon-g10-50000-0/plots/pantheon-g10-50000-0-specz-5-emcee-latent.png\n",
      "res/pantheon-g10/pantheon-g10-50000-0/plots/pantheon-g10-50000-0-specz-6-emcee-latent.png\n",
      "res/pantheon-g10/pantheon-g10-50000-0/plots/pantheon-g10-50000-0-specz-7-emcee-latent.png\n",
      "res/pantheon-g10/pantheon-g10-50000-0/plots/pantheon-g10-50000-0-specz-8-emcee-latent.png\n",
      "res/pantheon-g10/pantheon-g10-50000-0/plots/pantheon-g10-50000-0-specz-9-emcee-latent.png\n",
      "res/pantheon-g10/pantheon-g10-100000-0/plots/pantheon-g10-100000-0-mphotoz-0-emcee-latent.png\n",
      "res/pantheon-g10/pantheon-g10-100000-0/plots/pantheon-g10-100000-0-mphotoz-1-emcee-latent.png\n",
      "res/pantheon-g10/pantheon-g10-100000-0/plots/pantheon-g10-100000-0-mphotoz-2-emcee-latent.png\n",
      "res/pantheon-g10/pantheon-g10-100000-0/plots/pantheon-g10-100000-0-mphotoz-3-emcee-latent.png\n",
      "res/pantheon-g10/pantheon-g10-100000-0/plots/pantheon-g10-100000-0-mphotoz-4-emcee-latent.png\n",
      "res/pantheon-g10/pantheon-g10-100000-0/plots/pantheon-g10-100000-0-mphotoz-5-emcee-latent.png\n",
      "res/pantheon-g10/pantheon-g10-100000-0/plots/pantheon-g10-100000-0-mphotoz-6-emcee-latent.png\n",
      "res/pantheon-g10/pantheon-g10-100000-0/plots/pantheon-g10-100000-0-mphotoz-7-emcee-latent.png\n",
      "res/pantheon-g10/pantheon-g10-100000-0/plots/pantheon-g10-100000-0-mphotoz-8-emcee-latent.png\n",
      "res/pantheon-g10/pantheon-g10-100000-0/plots/pantheon-g10-100000-0-mphotoz-9-emcee-latent.png\n",
      "res/pantheon-g10/pantheon-g10-100000-0/plots/pantheon-g10-100000-0-specz-0-emcee-latent.png\n",
      "res/pantheon-g10/pantheon-g10-100000-0/plots/pantheon-g10-100000-0-specz-1-emcee-latent.png\n",
      "res/pantheon-g10/pantheon-g10-100000-0/plots/pantheon-g10-100000-0-specz-2-emcee-latent.png\n",
      "res/pantheon-g10/pantheon-g10-100000-0/plots/pantheon-g10-100000-0-specz-3-emcee-latent.png\n",
      "res/pantheon-g10/pantheon-g10-100000-0/plots/pantheon-g10-100000-0-specz-4-emcee-latent.png\n",
      "res/pantheon-g10/pantheon-g10-100000-0/plots/pantheon-g10-100000-0-specz-5-emcee-latent.png\n",
      "res/pantheon-g10/pantheon-g10-100000-0/plots/pantheon-g10-100000-0-specz-6-emcee-latent.png\n",
      "res/pantheon-g10/pantheon-g10-100000-0/plots/pantheon-g10-100000-0-specz-7-emcee-latent.png\n",
      "res/pantheon-g10/pantheon-g10-100000-0/plots/pantheon-g10-100000-0-specz-8-emcee-latent.png\n",
      "res/pantheon-g10/pantheon-g10-100000-0/plots/pantheon-g10-100000-0-specz-9-emcee-latent.png\n"
     ]
    }
   ],
   "source": [
    "for N in (1000, 2000, 5000, 10_000, 20_000, 50_000, 100_000):\n",
    "    for datatype in ('mphotoz', 'specz'):\n",
    "        for suffix in (0,):\n",
    "            for version in range(10):\n",
    "                simplesn = SimpleSN(survey='pantheon-g10', datatype=datatype, N=N, suffix=suffix, version=version)\n",
    "                config = simplesn.config('simplesn-marginal.yaml', gen=False)\n",
    "                data = simplesn.data\n",
    "\n",
    "                loc, var = simplesn.emcee_latent\n",
    "\n",
    "                fig, axs = plt.subplots(1, 2, sharey='row', gridspec_kw=dict(width_ratios=(2, 1)), figsize=(8, 4))\n",
    "\n",
    "\n",
    "                isspecz = simplesn.datatype == 'specz'\n",
    "\n",
    "                distmod = data['distmod'] if 'distmod' in data else data['m'] - data['M']\n",
    "                R_z = data.get('R_z', 1)\n",
    "\n",
    "                truth = distmod + data['mean_M0']\n",
    "\n",
    "                y0 = (loc[:, 0] - truth) / R_z\n",
    "                y1 = (loc[:, 1] - truth) / R_z\n",
    "\n",
    "                # plt.plot(data['z'][asort], truth[asort], color='green')\n",
    "                axs[0].errorbar(truth, y0, yerr=var[:, 0, 0]**0.5, ls='none', color='green')\n",
    "                axs[0].errorbar(truth, y1, yerr=var[:, 1, 1]**0.5, ls='none', color='red')\n",
    "\n",
    "\n",
    "                bins = 50 if isspecz else torch.linspace(-5, 5, 51)\n",
    "                histkwargs = dict(bins=bins, density=True, histtype='step', orientation='horizontal')\n",
    "\n",
    "                labelfmt = r'$\\bar{%s}^s - M_0$' if isspecz else r'$(\\bar{%s}^s - M_0) / R_z$'\n",
    "\n",
    "                axs[1].hist(y0.numpy(), **histkwargs, color='green', label=labelfmt % 'M')\n",
    "                axs[1].hist(y1.numpy(), **histkwargs, color='red', label=labelfmt % 'm')\n",
    "\n",
    "                if not isspecz:\n",
    "                    axs[1].plot(torch.distributions.Normal(0, 1).log_prob(bins).exp_(), bins,\n",
    "                             label='$\\mathcal{G}(0, 1)$')\n",
    "                axs[1].legend()\n",
    "\n",
    "                axs[1].set_xticklabels([])\n",
    "                axs[0].set_xlabel(r'$m$')\n",
    "                fig.suptitle(simplesn.data_prefix)\n",
    "\n",
    "                name = simplesn.plotdir / f'{simplesn.data_prefix}-emcee-latent.png'\n",
    "                print(name)\n",
    "                fig.savefig(name)\n",
    "                plt.close(fig)"
   ],
   "metadata": {
    "collapsed": false,
    "pycharm": {
     "name": "#%%\n"
    }
   }
  }
 ],
 "metadata": {
  "kernelspec": {
   "display_name": "Python 3 (ipykernel)",
   "language": "python",
   "name": "python3"
  },
  "language_info": {
   "codemirror_mode": {
    "name": "ipython",
    "version": 3
   },
   "file_extension": ".py",
   "mimetype": "text/x-python",
   "name": "python",
   "nbconvert_exporter": "python",
   "pygments_lexer": "ipython3",
   "version": "3.9.10"
  },
  "varInspector": {
   "cols": {
    "lenName": 16,
    "lenType": 16,
    "lenVar": 40
   },
   "kernels_config": {
    "python": {
     "delete_cmd_postfix": "",
     "delete_cmd_prefix": "del ",
     "library": "var_list.py",
     "varRefreshCmd": "print(var_dic_list())"
    },
    "r": {
     "delete_cmd_postfix": ") ",
     "delete_cmd_prefix": "rm(",
     "library": "var_list.r",
     "varRefreshCmd": "cat(var_dic_list()) "
    }
   },
   "types_to_exclude": [
    "module",
    "function",
    "builtin_function_or_method",
    "instance",
    "_Feature"
   ],
   "window_display": false
  }
 },
 "nbformat": 4,
 "nbformat_minor": 1
}