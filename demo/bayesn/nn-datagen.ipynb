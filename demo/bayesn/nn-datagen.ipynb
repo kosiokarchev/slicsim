{
 "cells": [
  {
   "cell_type": "code",
   "execution_count": 1,
   "metadata": {
    "collapsed": true
   },
   "outputs": [
    {
     "data": {
      "text/plain": "Guide(\n  (hpmvn): HierarchicPartialMultivariateNormalSamplingGroup(8 sites, torch.Size([1505]))\n)"
     },
     "execution_count": 1,
     "metadata": {},
     "output_type": "execute_result"
    }
   ],
   "source": [
    "from pathlib import Path\n",
    "\n",
    "import torch\n",
    "torch.set_default_tensor_type(torch.cuda.FloatTensor)\n",
    "torch.set_grad_enabled(False)\n",
    "\n",
    "from tqdm.auto import tqdm\n",
    "\n",
    "from lib.bayesn import get_cpdataset, get_ranges, load\n",
    "\n",
    "\n",
    "N = 500\n",
    "DATA_GEN = f'{N}-cosmo-ir'\n",
    "GUIDE_KEY = 'hpmvn'\n",
    "CONDITION_KEY = ''\n",
    "SUFFIX = ''  # '-negrenyi'\n",
    "\n",
    "EXPERIMENT_NAME = '-'.join((_ for _ in (GUIDE_KEY, CONDITION_KEY) if _))\n",
    "SAVENAME = f'{EXPERIMENT_NAME}{SUFFIX}'\n",
    "RESDIR = Path(f'res-{DATA_GEN}')\n",
    "\n",
    "NNTRAIN = RESDIR / 'nntrain' / f'{SAVENAME}-nntrain-{{i}}.pt'\n",
    "\n",
    "\n",
    "guidename = RESDIR / f'{SAVENAME}-guide.pt'\n",
    "\n",
    "config = load(EXPERIMENT_NAME, DATA_GEN, N, guidename=guidename)\n",
    "config.guide.eval()"
   ]
  },
  {
   "cell_type": "code",
   "execution_count": 2,
   "outputs": [],
   "source": [
    "ranges = get_ranges(config, ignore=('Om0', 'Ode0', 'delta_M'), nsigma=3)\n",
    "dataset = get_cpdataset(config, CONDITION_KEY, ranges, (0.1, 0.5, 0.5, 0.9))"
   ],
   "metadata": {
    "collapsed": false,
    "pycharm": {
     "name": "#%%\n"
    }
   }
  },
  {
   "cell_type": "code",
   "execution_count": null,
   "outputs": [],
   "source": [
    "from more_itertools import take\n",
    "\n",
    "for i in range(7):\n",
    "    torch.save(\n",
    "        take(N := 3000, tqdm(dataset, total=N)), NNTRAIN.format(i=i)\n",
    "    )"
   ],
   "metadata": {
    "collapsed": false,
    "pycharm": {
     "name": "#%%\n",
     "is_executing": true
    }
   }
  }
 ],
 "metadata": {
  "kernelspec": {
   "display_name": "Python 3",
   "language": "python",
   "name": "python3"
  },
  "language_info": {
   "codemirror_mode": {
    "name": "ipython",
    "version": 2
   },
   "file_extension": ".py",
   "mimetype": "text/x-python",
   "name": "python",
   "nbconvert_exporter": "python",
   "pygments_lexer": "ipython2",
   "version": "2.7.6"
  }
 },
 "nbformat": 4,
 "nbformat_minor": 0
}