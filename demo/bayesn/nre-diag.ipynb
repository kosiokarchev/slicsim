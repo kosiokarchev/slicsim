{
 "cells": [
  {
   "cell_type": "code",
   "execution_count": 1,
   "outputs": [],
   "source": [
    "from matplotlib import pyplot as plt\n",
    "\n",
    "import torch\n",
    "from torch.utils.data import DataLoader\n",
    "from tqdm.auto import tqdm\n",
    "\n",
    "\n",
    "torch.set_grad_enabled(False)\n",
    "torch.set_default_tensor_type(torch.cuda.FloatTensor)\n",
    "from clipppy.patches import torch_numpy\n",
    "\n",
    "from lib.nn import FilesDataset, Head, NRE\n",
    "\n",
    "LABELS = {\n",
    "    'Om0': r'$\\Omega_{m, 0}$',\n",
    "    'Ode0': r'$\\Omega_{\\Lambda, 0}$'\n",
    "}"
   ],
   "metadata": {
    "collapsed": false,
    "pycharm": {
     "name": "#%%\n"
    }
   }
  },
  {
   "cell_type": "code",
   "execution_count": 2,
   "metadata": {
    "collapsed": true
   },
   "outputs": [],
   "source": [
    "from glob import glob\n",
    "from pathlib import Path\n",
    "\n",
    "N = 100\n",
    "DATA_GEN = f'{N}-cosmo-ir'\n",
    "EXPERIMENT_NAME = 'hpmvn'\n",
    "SUFFIX = ''  # '-negrenyi'\n",
    "SAVENAME = f'{EXPERIMENT_NAME}{SUFFIX}'\n",
    "RESDIR = Path(f'res-{DATA_GEN}')\n",
    "TRAINDIR = RESDIR / 'nntrain'\n",
    "\n",
    "NRENAME = f'res-{DATA_GEN}/{SAVENAME}-nre.pt'\n",
    "LOSSESNAME = f'res-{DATA_GEN}/{SAVENAME}-nre-losses.pt'\n",
    "\n",
    "dataset = FilesDataset(glob(str(TRAINDIR / '*.pt')))"
   ]
  },
  {
   "cell_type": "code",
   "execution_count": 3,
   "outputs": [],
   "source": [
    "head, nre = torch.load(NRENAME)\n",
    "losses = torch.load(LOSSESNAME)"
   ],
   "metadata": {
    "collapsed": false,
    "pycharm": {
     "name": "#%%\n"
    }
   }
  },
  {
   "cell_type": "code",
   "execution_count": 4,
   "outputs": [
    {
     "name": "stderr",
     "output_type": "stream",
     "text": [
      "/tmp/ipykernel_261801/1207146226.py:7: UserWarning: torch.vmap is an experimental prototype that is subject to change and/or deletion. Please use at your own risk. There may be unexpected performance cliffs due to certain operators not being implemented. To see detailed performance warnings please use `torch._C._debug_only_display_vmap_fallback_warnings(True) before the call to `vmap`.\n",
      "  def _eval_ratio(Om0, Ode0, obs):\n"
     ]
    }
   ],
   "source": [
    "from functools import partial\n",
    "from collections import OrderedDict\n",
    "from torch._vmap_internals import vmap\n",
    "\n",
    "\n",
    "@partial(vmap, in_dims=(0, 0, None), out_dims=-1)\n",
    "def _eval_ratio(Om0, Ode0, obs):\n",
    "    return nre(*head(OrderedDict((('Om0', Om0), ('Ode0', Ode0))), obs)).squeeze(-1)\n",
    "\n",
    "\n",
    "def eval_ratio(Om0, Ode0, obs):\n",
    "    eval_shape = Om0.shape\n",
    "    return _eval_ratio(*(\n",
    "        _.unsqueeze(-1).flatten(0, len(eval_shape))\n",
    "        for _ in (Om0, Ode0)\n",
    "    ), obs).unflatten(-1, eval_shape)\n",
    "\n",
    "\n",
    "prior_C_extent = (0.1, 0.5, 0.5, 0.9)\n",
    "\n",
    "imkwargs = dict(origin='lower', extent=prior_C_extent)\n",
    "grids = dict(zip(('Om0', 'Ode0'), (\n",
    "    (x[1:] + x[:-1]) / 2\n",
    "    for s in (slice(None, 2), slice(2, None))\n",
    "    for x in [torch.linspace(*prior_C_extent[s], 41)]\n",
    ")))\n",
    "Ode0, Om0 = torch.meshgrid(grids['Ode0'], grids['Om0'])"
   ],
   "metadata": {
    "collapsed": false,
    "pycharm": {
     "name": "#%%\n"
    }
   }
  },
  {
   "cell_type": "code",
   "execution_count": 5,
   "outputs": [
    {
     "data": {
      "text/plain": "  0%|          | 0/64 [00:00<?, ?it/s]",
      "application/vnd.jupyter.widget-view+json": {
       "version_major": 2,
       "version_minor": 0,
       "model_id": "d0ff129a84c94b62a399b668b6df0617"
      }
     },
     "metadata": {},
     "output_type": "display_data"
    }
   ],
   "source": [
    "NTOTAL = 2048\n",
    "NBATCH = 32\n",
    "\n",
    "loader = DataLoader(dataset, batch_size=NBATCH)\n",
    "head.eval(), nre.eval()\n",
    "\n",
    "def get_quantiles(post, i):\n",
    "    return [\n",
    "        p[m].sum().item()\n",
    "        for p, m in zip(\n",
    "            post,\n",
    "            (post.movedim(0, -1) > post.__getitem__((range(len(post)), *i))).movedim(-1, 0)\n",
    "        )\n",
    "    ]\n",
    "\n",
    "q = []\n",
    "qm = ([], [])\n",
    "for i, (test_params, test_obs) in zip(tqdm(range(0, NTOTAL, NBATCH)), loader):\n",
    "    posts = eval_ratio(Om0, Ode0, test_obs).exp()\n",
    "    posts /= posts.sum((-2, -1), keepdims=True)\n",
    "    iOde0, iOm0 = (\n",
    "        torch.searchsorted(grid, test_params[key]).clip(0, len(grid)-1)\n",
    "        for key in ('Ode0', 'Om0') for grid in [grids[key]]\n",
    "    )\n",
    "    q.extend(get_quantiles(posts, (iOde0, iOm0)))\n",
    "    qm[0].extend(get_quantiles(posts.sum(-2), (iOm0,)))\n",
    "    qm[1].extend(get_quantiles(posts.sum(-1), (iOde0,)))"
   ],
   "metadata": {
    "collapsed": false,
    "pycharm": {
     "name": "#%%\n"
    }
   }
  },
  {
   "cell_type": "code",
   "execution_count": 44,
   "outputs": [
    {
     "data": {
      "text/plain": "<Figure size 900x600 with 1 Axes>",
      "image/png": "[encoded data removed]"
     },
     "metadata": {
      "needs_background": "light"
     },
     "output_type": "display_data"
    }
   ],
   "source": [
    "plt.plot(*2*((0, 1),), 'k-', lw=1, zorder=1)\n",
    "for _q, lbl in zip((q, *qm), ('joint', LABELS['Om0'], LABELS['Ode0'])):\n",
    "    plt.hist(_q, range=(0, 1), bins=100, cumulative=True, density=True,\n",
    "             histtype='step', label=lbl, zorder=2)\n",
    "plt.xlabel('quantile'); plt.ylabel('recovery fraction')\n",
    "plt.xlim(0, 1); plt.ylim(0, 1)\n",
    "plt.legend()\n",
    "plt.gca().set_aspect('equal')\n",
    "plt.savefig(RESDIR / 'plots' / 'nre-qq.png')"
   ],
   "metadata": {
    "collapsed": false,
    "pycharm": {
     "name": "#%%\n"
    }
   }
  },
  {
   "cell_type": "code",
   "execution_count": 43,
   "outputs": [],
   "source": [
    "from operator import itemgetter\n",
    "\n",
    "\n",
    "head.eval(), nre.eval()\n",
    "\n",
    "for i, (_Om0, _Ode0, post) in enumerate(zip(*itemgetter('Om0', 'Ode0')(test_params), posts)):\n",
    "\n",
    "    plt.figure()\n",
    "\n",
    "    plt.imshow(post, **imkwargs, cmap='inferno')\n",
    "    plt.plot(_Om0, _Ode0, 'gx', markeredgewidth=2, markersize=8)\n",
    "\n",
    "    plt.xlabel(LABELS['Om0'])\n",
    "    plt.ylabel(LABELS['Ode0'])\n",
    "\n",
    "    cax = plt.colorbar()\n",
    "    cax.set_label('posterior density probability')\n",
    "\n",
    "    plt.savefig(f'res-{DATA_GEN}/plots/nre/{SAVENAME}-cosmopost-{i}.png')\n",
    "    plt.close()"
   ],
   "metadata": {
    "collapsed": false,
    "pycharm": {
     "name": "#%%\n"
    }
   }
  }
 ],
 "metadata": {
  "kernelspec": {
   "display_name": "Python 3",
   "language": "python",
   "name": "python3"
  },
  "language_info": {
   "codemirror_mode": {
    "name": "ipython",
    "version": 2
   },
   "file_extension": ".py",
   "mimetype": "text/x-python",
   "name": "python",
   "nbconvert_exporter": "python",
   "pygments_lexer": "ipython2",
   "version": "2.7.6"
  }
 },
 "nbformat": 4,
 "nbformat_minor": 0
}